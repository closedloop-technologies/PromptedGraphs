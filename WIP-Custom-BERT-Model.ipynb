{
 "cells": [
  {
   "cell_type": "markdown",
   "id": "4ac1a5db-0cc8-40b5-bbe6-8b23f06ddcee",
   "metadata": {},
   "source": [
    "# BERTModel "
   ]
  },
  {
   "cell_type": "code",
   "execution_count": 83,
   "id": "5c8b5697-3488-426c-8982-b1b4034a333b",
   "metadata": {},
   "outputs": [
    {
     "name": "stderr",
     "output_type": "stream",
     "text": [
      "Some weights of the model checkpoint at dbmdz/bert-large-cased-finetuned-conll03-english were not used when initializing BertForTokenClassification: ['bert.pooler.dense.bias', 'bert.pooler.dense.weight']\n",
      "- This IS expected if you are initializing BertForTokenClassification from the checkpoint of a model trained on another task or with another architecture (e.g. initializing a BertForSequenceClassification model from a BertForPreTraining model).\n",
      "- This IS NOT expected if you are initializing BertForTokenClassification from the checkpoint of a model that you expect to be exactly identical (initializing a BertForSequenceClassification model from a BertForSequenceClassification model).\n"
     ]
    }
   ],
   "source": [
    "from transformers import AutoModelForTokenClassification, AutoTokenizer\n",
    "import torch\n",
    "from promptedgraphs.models import EntityReference\n",
    "from typing import Dict, List\n",
    "from collections import defaultdict\n",
    "import re\n",
    "import re\n",
    "from promptedgraphs.vis import render_entities\n",
    "\n",
    "# Load the BERT model and tokenizer\n",
    "model_name = \"dbmdz/bert-large-cased-finetuned-conll03-english\"\n",
    "model = AutoModelForTokenClassification.from_pretrained(model_name)\n",
    "tokenizer = AutoTokenizer.from_pretrained(model_name)\n",
    "\n",
    "\n",
    "async def extract_entities_bert(\n",
    "    text: str, labels: Dict[str, str]\n",
    ") -> List[EntityReference]:\n",
    "    # Tokenize the text and convert to tensor\n",
    "    inputs = tokenizer(text, return_tensors=\"pt\", padding=True, truncation=True)\n",
    "\n",
    "    # Predict entities using BERT\n",
    "    with torch.no_grad():\n",
    "        outputs = model(**inputs).logits\n",
    "    predictions = torch.argmax(outputs, dim=2)\n",
    "\n",
    "    # Map predictions to entity labels\n",
    "    tokenized_text = tokenizer.convert_ids_to_tokens(inputs[\"input_ids\"][0])\n",
    "    entities = defaultdict(list)\n",
    "\n",
    "    prev_token_label = \"0\"\n",
    "    start_char = 0\n",
    "    for token, prediction in zip(tokenized_text, predictions[0].numpy()):\n",
    "        label = model.config.id2label[prediction]\n",
    "        text_span = tokenizer.convert_tokens_to_string([token])\n",
    "        if label != \"O\":  # O means no entity\n",
    "            if prev_token_label == label:  # combine continuous labels\n",
    "                entities[label][-1][\"text\"] += \" \" + token\n",
    "                entities[label][-1][\"end\"] += len(text_span) + 1\n",
    "            else:\n",
    "                entities[label].append(\n",
    "                    {\n",
    "                        \"text\": token,\n",
    "                        \"start\": start_char,\n",
    "                        \"end\": start_char + len(text_span),\n",
    "                    }\n",
    "                )\n",
    "        prev_token_label = label\n",
    "        if token not in {\"[CLS]\", \"[SEP]\"}:\n",
    "            start_char += len(text_span) + 1\n",
    "\n",
    "    # convert to EntityReference\n",
    "    processed_entities = []\n",
    "    for label, tokens in entities.items():\n",
    "        for m in tokens:\n",
    "            for match in re.finditer(m[\"text\"], text):\n",
    "                entity = EntityReference(\n",
    "                    start=match.start(),\n",
    "                    end=match.end(),\n",
    "                    text=m[\"text\"],\n",
    "                    label=label,\n",
    "                )\n",
    "                processed_entities.append(entity)\n",
    "\n",
    "    return processed_entities"
   ]
  },
  {
   "cell_type": "code",
   "execution_count": 84,
   "id": "3263b6e1-913c-4425-bf85-8108ce04a76e",
   "metadata": {},
   "outputs": [],
   "source": [
    "text = \"I am in Kansas, my favorite actor is Matt Damon and I live in North Dakota\"\n",
    "entities = await extract_entities_bert(text, labels=labels)"
   ]
  },
  {
   "cell_type": "code",
   "execution_count": 85,
   "id": "c8104cf9-3d15-41d5-b603-0bcab34b3188",
   "metadata": {},
   "outputs": [
    {
     "data": {
      "text/html": [
       "<span class=\"tex2jax_ignore\"><div class=\"entities\" style=\"line-height: 2.5; direction: ltr\">I am in \n",
       "<mark class=\"entity\" style=\"background: #66c2a5; padding: 0.45em 0.6em; margin: 0 0.25em; line-height: 1; border-radius: 0.35em;\">\n",
       "    Kansas\n",
       "    <span style=\"font-size: 0.8em; font-weight: bold; line-height: 1; border-radius: 0.35em; vertical-align: middle; margin-left: 0.5rem\">I-LOC</span>\n",
       "</mark>\n",
       ", my favorite actor is \n",
       "<mark class=\"entity\" style=\"background: #fc8d62; padding: 0.45em 0.6em; margin: 0 0.25em; line-height: 1; border-radius: 0.35em;\">\n",
       "    Matt Damon\n",
       "    <span style=\"font-size: 0.8em; font-weight: bold; line-height: 1; border-radius: 0.35em; vertical-align: middle; margin-left: 0.5rem\">I-PER</span>\n",
       "</mark>\n",
       " and I live in \n",
       "<mark class=\"entity\" style=\"background: #66c2a5; padding: 0.45em 0.6em; margin: 0 0.25em; line-height: 1; border-radius: 0.35em;\">\n",
       "    North Dakota\n",
       "    <span style=\"font-size: 0.8em; font-weight: bold; line-height: 1; border-radius: 0.35em; vertical-align: middle; margin-left: 0.5rem\">I-LOC</span>\n",
       "</mark>\n",
       "</div></span>"
      ],
      "text/plain": [
       "<IPython.core.display.HTML object>"
      ]
     },
     "metadata": {},
     "output_type": "display_data"
    }
   ],
   "source": [
    "render_entities(text, entities)"
   ]
  },
  {
   "cell_type": "code",
   "execution_count": 86,
   "id": "4cb7f178-bd63-4fca-9348-22ff6e2d4264",
   "metadata": {},
   "outputs": [
    {
     "data": {
      "text/plain": [
       "[EntityReference(start=8, end=14, label='I-LOC', text='Kansas', reason=None),\n",
       " EntityReference(start=62, end=74, label='I-LOC', text='North Dakota', reason=None),\n",
       " EntityReference(start=37, end=47, label='I-PER', text='Matt Damon', reason=None)]"
      ]
     },
     "execution_count": 86,
     "metadata": {},
     "output_type": "execute_result"
    }
   ],
   "source": [
    "entities"
   ]
  }
 ],
 "metadata": {
  "kernelspec": {
   "display_name": "Python 3 (ipykernel)",
   "language": "python",
   "name": "python3"
  },
  "language_info": {
   "codemirror_mode": {
    "name": "ipython",
    "version": 3
   },
   "file_extension": ".py",
   "mimetype": "text/x-python",
   "name": "python",
   "nbconvert_exporter": "python",
   "pygments_lexer": "ipython3",
   "version": "3.10.12"
  }
 },
 "nbformat": 4,
 "nbformat_minor": 5
}
