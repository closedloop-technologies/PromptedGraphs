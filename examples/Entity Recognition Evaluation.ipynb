{
 "cells": [
  {
   "cell_type": "markdown",
   "metadata": {},
   "source": [
    "#  Show the tradeoffs between Spacy vs ChatGPT for entity recognition\n",
    "\n",
    "\n",
    "Requirements\n",
    "```\n",
    "python -m spacy download en_core_web_sm\n",
    "```\n",
    "```python\n",
    "import nltk\n",
    "nltk.download('vader_lexicon')\n",
    "```"
   ]
  },
  {
   "cell_type": "code",
   "execution_count": 1,
   "metadata": {},
   "outputs": [],
   "source": [
    "import asyncio\n",
    "import datetime\n",
    "from typing import Dict, List, NamedTuple\n",
    "\n",
    "import spacy\n",
    "from nltk.sentiment import SentimentIntensityAnalyzer\n",
    "from pydantic import BaseModel, Field\n",
    "\n",
    "from promptedgraphs.config import Config, load_config\n",
    "from promptedgraphs.extraction.entities_from_text import entities_from_text\n",
    "from promptedgraphs.generation.data_from_model import generate\n",
    "from promptedgraphs.llms.openai_chat import LanguageModel\n",
    "from promptedgraphs.llms.usage import Usage\n",
    "from promptedgraphs.models import EntityReference\n",
    "from promptedgraphs.vis import ensure_entities, render_entities"
   ]
  },
  {
   "cell_type": "code",
   "execution_count": 2,
   "metadata": {},
   "outputs": [
    {
     "data": {
      "text/plain": [
       "Config(name=Prompted Graphs, description=From Dataset Labeling to Deployment: The Power of NLP and LLMs Combined., version=0.3.1, openai_api_key=***************************************************)"
      ]
     },
     "execution_count": 2,
     "metadata": {},
     "output_type": "execute_result"
    }
   ],
   "source": [
    "load_config()"
   ]
  },
  {
   "cell_type": "code",
   "execution_count": 3,
   "metadata": {},
   "outputs": [],
   "source": [
    "async def label_sentiment(text_of_reviews, model=None, temperature=0):\n",
    "    labels = {\n",
    "        \"POSITIVE\": \"A postive review of a product or service.\",\n",
    "        \"NEGATIVE\": \"A negative review of a product or service.\",\n",
    "        \"NEUTRAL\": \"A neutral review of a product or service.\",\n",
    "    }\n",
    "\n",
    "    ents = []\n",
    "    usage = Usage(model=model)\n",
    "    async for msg in entities_from_text(\n",
    "        name=\"sentiment\",\n",
    "        description=\"Sentiment Analysis of Customer Reviews\",\n",
    "        text=text_of_reviews,\n",
    "        temperature=temperature,\n",
    "        labels=labels,\n",
    "        model=model,\n",
    "        config=Config(),\n",
    "        include_reason=False,\n",
    "        usage=usage,\n",
    "    ):\n",
    "        ents.append(msg)\n",
    "    return ents, usage\n",
    "\n",
    "\n",
    "text_of_reviews = \"\"\"\n",
    "1. \"I absolutely love this product. It's been a game changer!\"\n",
    "2. \"The service was quite poor and the staff was rude.\"\n",
    "3. \"The item is okay. Nothing special, but it gets the job done.\"\n",
    "\"\"\".strip()"
   ]
  },
  {
   "cell_type": "markdown",
   "metadata": {},
   "source": [
    "## Two GPT approaches"
   ]
  },
  {
   "cell_type": "code",
   "execution_count": 4,
   "metadata": {},
   "outputs": [
    {
     "data": {
      "text/html": [
       "<span class=\"tex2jax_ignore\"><div class=\"entities\" style=\"line-height: 2.5; direction: ltr\">1. &quot;\n",
       "<mark class=\"entity\" style=\"background: #8da0cb; padding: 0.45em 0.6em; margin: 0 0.25em; line-height: 1; border-radius: 0.35em;\">\n",
       "    I absolutely love this product. It's been a game changer!\n",
       "    <span style=\"font-size: 0.8em; font-weight: bold; line-height: 1; border-radius: 0.35em; vertical-align: middle; margin-left: 0.5rem\">POSITIVE</span>\n",
       "</mark>\n",
       "&quot;<br>2. &quot;\n",
       "<mark class=\"entity\" style=\"background: #66c2a5; padding: 0.45em 0.6em; margin: 0 0.25em; line-height: 1; border-radius: 0.35em;\">\n",
       "    The service was quite poor and the staff was rude.\n",
       "    <span style=\"font-size: 0.8em; font-weight: bold; line-height: 1; border-radius: 0.35em; vertical-align: middle; margin-left: 0.5rem\">NEGATIVE</span>\n",
       "</mark>\n",
       "&quot;<br>3. &quot;\n",
       "<mark class=\"entity\" style=\"background: #fc8d62; padding: 0.45em 0.6em; margin: 0 0.25em; line-height: 1; border-radius: 0.35em;\">\n",
       "    The item is okay. Nothing special, but it gets the job done.\n",
       "    <span style=\"font-size: 0.8em; font-weight: bold; line-height: 1; border-radius: 0.35em; vertical-align: middle; margin-left: 0.5rem\">NEUTRAL</span>\n",
       "</mark>\n",
       "&quot;</div></span>"
      ],
      "text/plain": [
       "<IPython.core.display.HTML object>"
      ]
     },
     "metadata": {},
     "output_type": "display_data"
    },
    {
     "data": {
      "text/plain": [
       "Usage(model=LanguageModel.GPT35_turbo, prompt_tokens=783, completion_tokens=125, duration=2.9928, cost=0.001061), compute_cost=0.000028), llm_cost=0.001033)"
      ]
     },
     "metadata": {},
     "output_type": "display_data"
    }
   ],
   "source": [
    "gpt35_entities, gpt35_usage = await label_sentiment(\n",
    "    text_of_reviews, model=LanguageModel.GPT35_turbo, temperature=0\n",
    ")\n",
    "\n",
    "render_entities(text_of_reviews, gpt35_entities)\n",
    "display(gpt35_usage)"
   ]
  },
  {
   "cell_type": "code",
   "execution_count": 5,
   "metadata": {},
   "outputs": [
    {
     "data": {
      "text/html": [
       "<span class=\"tex2jax_ignore\"><div class=\"entities\" style=\"line-height: 2.5; direction: ltr\">1. &quot;\n",
       "<mark class=\"entity\" style=\"background: #8da0cb; padding: 0.45em 0.6em; margin: 0 0.25em; line-height: 1; border-radius: 0.35em;\">\n",
       "    I absolutely love this product. It's been a game changer!\n",
       "    <span style=\"font-size: 0.8em; font-weight: bold; line-height: 1; border-radius: 0.35em; vertical-align: middle; margin-left: 0.5rem\">POSITIVE</span>\n",
       "</mark>\n",
       "&quot;<br>2. &quot;\n",
       "<mark class=\"entity\" style=\"background: #66c2a5; padding: 0.45em 0.6em; margin: 0 0.25em; line-height: 1; border-radius: 0.35em;\">\n",
       "    The service was quite poor and the staff was rude.\n",
       "    <span style=\"font-size: 0.8em; font-weight: bold; line-height: 1; border-radius: 0.35em; vertical-align: middle; margin-left: 0.5rem\">NEGATIVE</span>\n",
       "</mark>\n",
       "&quot;<br>3. &quot;\n",
       "<mark class=\"entity\" style=\"background: #fc8d62; padding: 0.45em 0.6em; margin: 0 0.25em; line-height: 1; border-radius: 0.35em;\">\n",
       "    The item is okay. Nothing special, but it gets the job done.\n",
       "    <span style=\"font-size: 0.8em; font-weight: bold; line-height: 1; border-radius: 0.35em; vertical-align: middle; margin-left: 0.5rem\">NEUTRAL</span>\n",
       "</mark>\n",
       "&quot;</div></span>"
      ],
      "text/plain": [
       "<IPython.core.display.HTML object>"
      ]
     },
     "metadata": {},
     "output_type": "display_data"
    },
    {
     "data": {
      "text/plain": [
       "Usage(model=LanguageModel.GPT4, prompt_tokens=783, completion_tokens=124, duration=11.6574, cost=0.031039), compute_cost=0.000109), llm_cost=0.030930)"
      ]
     },
     "metadata": {},
     "output_type": "display_data"
    }
   ],
   "source": [
    "gpt4_entities, gpt4_usage = await label_sentiment(\n",
    "    text_of_reviews, model=LanguageModel.GPT4\n",
    ")\n",
    "\n",
    "render_entities(text_of_reviews, gpt4_entities)\n",
    "display(gpt4_usage)"
   ]
  },
  {
   "cell_type": "markdown",
   "metadata": {},
   "source": [
    "# Spacy implementation"
   ]
  },
  {
   "cell_type": "code",
   "execution_count": 6,
   "metadata": {},
   "outputs": [],
   "source": [
    "nlp = spacy.load(\"en_core_web_sm\")\n",
    "\n",
    "\n",
    "async def extract_entities_spacy(\n",
    "    name: str, description: str, text: str, labels: Dict[str, str]\n",
    ") -> List[EntityReference]:\n",
    "    # Load spaCy model for sentence tokenization\n",
    "\n",
    "    usage = Usage(model=\"spacy\")\n",
    "    usage.start()\n",
    "\n",
    "    # Initialize the sentiment analyzer\n",
    "    sia = SentimentIntensityAnalyzer()\n",
    "\n",
    "    # Tokenize the text into sentences\n",
    "    doc = nlp(text)\n",
    "    entities = []\n",
    "\n",
    "    for sentence in doc.sents:\n",
    "        # Analyze sentiment of the sentence\n",
    "        sentiment_score = sia.polarity_scores(sentence.text)\n",
    "\n",
    "        # Determine the sentiment label\n",
    "        if sentiment_score[\"neu\"] >= 0.99:\n",
    "            continue\n",
    "        if sentiment_score[\"compound\"] >= 0.05:\n",
    "            sentiment_label = \"POSITIVE\"\n",
    "        elif sentiment_score[\"compound\"] <= -0.05:\n",
    "            sentiment_label = \"NEGATIVE\"\n",
    "        else:\n",
    "            sentiment_label = \"NEUTRAL\"\n",
    "\n",
    "        # Create EntityReference\n",
    "        entity = EntityReference(\n",
    "            start=sentence.start_char,\n",
    "            end=sentence.end_char,\n",
    "            label=sentiment_label,\n",
    "            text=sentence.text,\n",
    "            reason=str(sentiment_score),\n",
    "        )\n",
    "        entities.append(entity)\n",
    "\n",
    "    usage.end()\n",
    "    return entities, usage"
   ]
  },
  {
   "cell_type": "code",
   "execution_count": 7,
   "metadata": {},
   "outputs": [],
   "source": [
    "ents_spacy, spacy_usage = await extract_entities_spacy(\n",
    "    name=\"sentiment\",\n",
    "    description=\"Sentiment Analysis of Customer Reviews\",\n",
    "    text=text_of_reviews,\n",
    "    labels={\n",
    "        \"POSITIVE\": \"A positive review of a product or service.\",\n",
    "        \"NEGATIVE\": \"A negative review of a product or service.\",\n",
    "        \"NEUTRAL\": \"A neutral review of a product or service.\",\n",
    "    },\n",
    ")"
   ]
  },
  {
   "cell_type": "code",
   "execution_count": 8,
   "metadata": {},
   "outputs": [
    {
     "name": "stderr",
     "output_type": "stream",
     "text": [
      "Model spacy not found in pricing table, using default pricing of 0\n",
      "Model spacy not found in pricing table, using default pricing of 0\n"
     ]
    }
   ],
   "source": [
    "import pandas as pd\n",
    "\n",
    "costs = pd.DataFrame(\n",
    "    [spacy_usage.dict(), gpt35_usage.dict(), gpt4_usage.dict()]\n",
    ").set_index(\"model\")"
   ]
  },
  {
   "cell_type": "code",
   "execution_count": 9,
   "metadata": {},
   "outputs": [],
   "source": [
    "costs.loc[:, \"cost multiple\"] = (\n",
    "    (costs[\"cost\"] / costs[\"cost\"].min())\n",
    "    .fillna(1)\n",
    "    .apply(lambda x: f\"{x:.1f}\".title() + \"x\")\n",
    ")\n",
    "costs.loc[:, \"duration multiple\"] = (\n",
    "    (costs[\"duration\"] / costs[\"duration\"].min())\n",
    "    .fillna(1)\n",
    "    .apply(lambda x: f\"{x:.1f}\".title() + \"x\")\n",
    ")"
   ]
  },
  {
   "cell_type": "code",
   "execution_count": 10,
   "metadata": {},
   "outputs": [
    {
     "data": {
      "text/html": [
       "<div>\n",
       "<style scoped>\n",
       "    .dataframe tbody tr th:only-of-type {\n",
       "        vertical-align: middle;\n",
       "    }\n",
       "\n",
       "    .dataframe tbody tr th {\n",
       "        vertical-align: top;\n",
       "    }\n",
       "\n",
       "    .dataframe thead th {\n",
       "        text-align: right;\n",
       "    }\n",
       "</style>\n",
       "<table border=\"1\" class=\"dataframe\">\n",
       "  <thead>\n",
       "    <tr style=\"text-align: right;\">\n",
       "      <th></th>\n",
       "      <th>prompt_tokens</th>\n",
       "      <th>completion_tokens</th>\n",
       "      <th>duration</th>\n",
       "      <th>cost</th>\n",
       "      <th>llm_cost</th>\n",
       "      <th>compute_cost</th>\n",
       "      <th>cost multiple</th>\n",
       "      <th>duration multiple</th>\n",
       "    </tr>\n",
       "    <tr>\n",
       "      <th>model</th>\n",
       "      <th></th>\n",
       "      <th></th>\n",
       "      <th></th>\n",
       "      <th></th>\n",
       "      <th></th>\n",
       "      <th></th>\n",
       "      <th></th>\n",
       "      <th></th>\n",
       "    </tr>\n",
       "  </thead>\n",
       "  <tbody>\n",
       "    <tr>\n",
       "      <th>spacy</th>\n",
       "      <td>0</td>\n",
       "      <td>0</td>\n",
       "      <td>0.018291</td>\n",
       "      <td>0.000000</td>\n",
       "      <td>0.000000</td>\n",
       "      <td>0.000000</td>\n",
       "      <td>1.0x</td>\n",
       "      <td>1.0x</td>\n",
       "    </tr>\n",
       "    <tr>\n",
       "      <th>LanguageModel.GPT35_turbo</th>\n",
       "      <td>783</td>\n",
       "      <td>125</td>\n",
       "      <td>2.992781</td>\n",
       "      <td>0.001061</td>\n",
       "      <td>0.001033</td>\n",
       "      <td>0.000028</td>\n",
       "      <td>Infx</td>\n",
       "      <td>163.6x</td>\n",
       "    </tr>\n",
       "    <tr>\n",
       "      <th>LanguageModel.GPT4</th>\n",
       "      <td>783</td>\n",
       "      <td>124</td>\n",
       "      <td>11.657372</td>\n",
       "      <td>0.031039</td>\n",
       "      <td>0.030930</td>\n",
       "      <td>0.000109</td>\n",
       "      <td>Infx</td>\n",
       "      <td>637.3x</td>\n",
       "    </tr>\n",
       "  </tbody>\n",
       "</table>\n",
       "</div>"
      ],
      "text/plain": [
       "                           prompt_tokens  completion_tokens   duration  \\\n",
       "model                                                                    \n",
       "spacy                                  0                  0   0.018291   \n",
       "LanguageModel.GPT35_turbo            783                125   2.992781   \n",
       "LanguageModel.GPT4                   783                124  11.657372   \n",
       "\n",
       "                               cost  llm_cost  compute_cost cost multiple  \\\n",
       "model                                                                       \n",
       "spacy                      0.000000  0.000000      0.000000          1.0x   \n",
       "LanguageModel.GPT35_turbo  0.001061  0.001033      0.000028          Infx   \n",
       "LanguageModel.GPT4         0.031039  0.030930      0.000109          Infx   \n",
       "\n",
       "                          duration multiple  \n",
       "model                                        \n",
       "spacy                                  1.0x  \n",
       "LanguageModel.GPT35_turbo            163.6x  \n",
       "LanguageModel.GPT4                   637.3x  "
      ]
     },
     "execution_count": 10,
     "metadata": {},
     "output_type": "execute_result"
    }
   ],
   "source": [
    "costs"
   ]
  },
  {
   "cell_type": "markdown",
   "metadata": {},
   "source": [
    "# Visualize labels across models"
   ]
  },
  {
   "cell_type": "code",
   "execution_count": 11,
   "metadata": {},
   "outputs": [],
   "source": [
    "from promptedgraphs.vis import get_colors, get_fields\n",
    "\n",
    "colors = get_colors(get_fields(gpt35_entities + gpt4_entities + ents_spacy))"
   ]
  },
  {
   "cell_type": "code",
   "execution_count": 12,
   "metadata": {},
   "outputs": [
    {
     "data": {
      "text/html": [
       "<span class=\"tex2jax_ignore\"><div class=\"entities\" style=\"line-height: 2.5; direction: ltr\">1. &quot;\n",
       "<mark class=\"entity\" style=\"background: #8da0cb; padding: 0.45em 0.6em; margin: 0 0.25em; line-height: 1; border-radius: 0.35em;\">\n",
       "    I absolutely love this product. It's been a game changer!\n",
       "    <span style=\"font-size: 0.8em; font-weight: bold; line-height: 1; border-radius: 0.35em; vertical-align: middle; margin-left: 0.5rem\">POSITIVE</span>\n",
       "</mark>\n",
       "&quot;<br>2. &quot;\n",
       "<mark class=\"entity\" style=\"background: #66c2a5; padding: 0.45em 0.6em; margin: 0 0.25em; line-height: 1; border-radius: 0.35em;\">\n",
       "    The service was quite poor and the staff was rude.\n",
       "    <span style=\"font-size: 0.8em; font-weight: bold; line-height: 1; border-radius: 0.35em; vertical-align: middle; margin-left: 0.5rem\">NEGATIVE</span>\n",
       "</mark>\n",
       "&quot;<br>3. &quot;\n",
       "<mark class=\"entity\" style=\"background: #fc8d62; padding: 0.45em 0.6em; margin: 0 0.25em; line-height: 1; border-radius: 0.35em;\">\n",
       "    The item is okay. Nothing special, but it gets the job done.\n",
       "    <span style=\"font-size: 0.8em; font-weight: bold; line-height: 1; border-radius: 0.35em; vertical-align: middle; margin-left: 0.5rem\">NEUTRAL</span>\n",
       "</mark>\n",
       "&quot;</div></span>"
      ],
      "text/plain": [
       "<IPython.core.display.HTML object>"
      ]
     },
     "metadata": {},
     "output_type": "display_data"
    }
   ],
   "source": [
    "render_entities(text_of_reviews, gpt35_entities, color_dict=colors)"
   ]
  },
  {
   "cell_type": "code",
   "execution_count": 13,
   "metadata": {},
   "outputs": [
    {
     "data": {
      "text/html": [
       "<span class=\"tex2jax_ignore\"><div class=\"entities\" style=\"line-height: 2.5; direction: ltr\">1. &quot;\n",
       "<mark class=\"entity\" style=\"background: #8da0cb; padding: 0.45em 0.6em; margin: 0 0.25em; line-height: 1; border-radius: 0.35em;\">\n",
       "    I absolutely love this product. It's been a game changer!\n",
       "    <span style=\"font-size: 0.8em; font-weight: bold; line-height: 1; border-radius: 0.35em; vertical-align: middle; margin-left: 0.5rem\">POSITIVE</span>\n",
       "</mark>\n",
       "&quot;<br>2. &quot;\n",
       "<mark class=\"entity\" style=\"background: #66c2a5; padding: 0.45em 0.6em; margin: 0 0.25em; line-height: 1; border-radius: 0.35em;\">\n",
       "    The service was quite poor and the staff was rude.\n",
       "    <span style=\"font-size: 0.8em; font-weight: bold; line-height: 1; border-radius: 0.35em; vertical-align: middle; margin-left: 0.5rem\">NEGATIVE</span>\n",
       "</mark>\n",
       "&quot;<br>3. &quot;\n",
       "<mark class=\"entity\" style=\"background: #fc8d62; padding: 0.45em 0.6em; margin: 0 0.25em; line-height: 1; border-radius: 0.35em;\">\n",
       "    The item is okay. Nothing special, but it gets the job done.\n",
       "    <span style=\"font-size: 0.8em; font-weight: bold; line-height: 1; border-radius: 0.35em; vertical-align: middle; margin-left: 0.5rem\">NEUTRAL</span>\n",
       "</mark>\n",
       "&quot;</div></span>"
      ],
      "text/plain": [
       "<IPython.core.display.HTML object>"
      ]
     },
     "metadata": {},
     "output_type": "display_data"
    }
   ],
   "source": [
    "render_entities(text_of_reviews, gpt4_entities, color_dict=colors)"
   ]
  },
  {
   "cell_type": "code",
   "execution_count": 14,
   "metadata": {},
   "outputs": [
    {
     "data": {
      "text/html": [
       "<span class=\"tex2jax_ignore\"><div class=\"entities\" style=\"line-height: 2.5; direction: ltr\">1. \n",
       "<mark class=\"entity\" style=\"background: #8da0cb; padding: 0.45em 0.6em; margin: 0 0.25em; line-height: 1; border-radius: 0.35em;\">\n",
       "    &quot;I absolutely love this product.\n",
       "    <span style=\"font-size: 0.8em; font-weight: bold; line-height: 1; border-radius: 0.35em; vertical-align: middle; margin-left: 0.5rem\">POSITIVE</span>\n",
       "</mark>\n",
       " It's been a game changer!&quot;<br>2. \n",
       "<mark class=\"entity\" style=\"background: #66c2a5; padding: 0.45em 0.6em; margin: 0 0.25em; line-height: 1; border-radius: 0.35em;\">\n",
       "    &quot;The service was quite poor and the staff was rude.\n",
       "    <span style=\"font-size: 0.8em; font-weight: bold; line-height: 1; border-radius: 0.35em; vertical-align: middle; margin-left: 0.5rem\">NEGATIVE</span>\n",
       "</mark>\n",
       "&quot;<br>3. \n",
       "<mark class=\"entity\" style=\"background: #8da0cb; padding: 0.45em 0.6em; margin: 0 0.25em; line-height: 1; border-radius: 0.35em;\">\n",
       "    &quot;The item is okay.\n",
       "    <span style=\"font-size: 0.8em; font-weight: bold; line-height: 1; border-radius: 0.35em; vertical-align: middle; margin-left: 0.5rem\">POSITIVE</span>\n",
       "</mark>\n",
       " \n",
       "<mark class=\"entity\" style=\"background: #66c2a5; padding: 0.45em 0.6em; margin: 0 0.25em; line-height: 1; border-radius: 0.35em;\">\n",
       "    Nothing special, but it gets the job done.&quot;\n",
       "    <span style=\"font-size: 0.8em; font-weight: bold; line-height: 1; border-radius: 0.35em; vertical-align: middle; margin-left: 0.5rem\">NEGATIVE</span>\n",
       "</mark>\n",
       "</div></span>"
      ],
      "text/plain": [
       "<IPython.core.display.HTML object>"
      ]
     },
     "metadata": {},
     "output_type": "display_data"
    }
   ],
   "source": [
    "render_entities(text_of_reviews, ents_spacy, color_dict=colors)"
   ]
  },
  {
   "cell_type": "code",
   "execution_count": null,
   "metadata": {},
   "outputs": [],
   "source": []
  },
  {
   "cell_type": "code",
   "execution_count": null,
   "metadata": {},
   "outputs": [],
   "source": []
  }
 ],
 "metadata": {
  "kernelspec": {
   "display_name": "Python 3 (ipykernel)",
   "language": "python",
   "name": "python3"
  },
  "language_info": {
   "codemirror_mode": {
    "name": "ipython",
    "version": 3
   },
   "file_extension": ".py",
   "mimetype": "text/x-python",
   "name": "python",
   "nbconvert_exporter": "python",
   "pygments_lexer": "ipython3",
   "version": "3.10.12"
  }
 },
 "nbformat": 4,
 "nbformat_minor": 4
}
