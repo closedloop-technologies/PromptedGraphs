{
 "cells": [
  {
   "cell_type": "markdown",
   "metadata": {},
   "source": [
    "# Text Labeling Task: Sentiment Analysis of Customer Reviews"
   ]
  },
  {
   "cell_type": "code",
   "execution_count": 10,
   "metadata": {},
   "outputs": [
    {
     "data": {
      "text/plain": [
       "Config(name=Prompted Graphs, description=From Dataset Labeling to Deployment: The Power of NLP and LLMs Combined., version=0.3.1, openai_api_key=***************************************************)"
      ]
     },
     "execution_count": 10,
     "metadata": {},
     "output_type": "execute_result"
    }
   ],
   "source": [
    "from promptedgraphs.vis import render_entities\n",
    "from promptedgraphs.config import Config, load_config\n",
    "\n",
    "import asyncio\n",
    "import datetime\n",
    "from typing import Dict, List, NamedTuple\n",
    "\n",
    "import spacy\n",
    "from nltk.sentiment import SentimentIntensityAnalyzer\n",
    "from pydantic import BaseModel, Field\n",
    "\n",
    "from promptedgraphs.config import Config, load_config\n",
    "from promptedgraphs.extraction.entities_from_text import entities_from_text\n",
    "from promptedgraphs.generation.data_from_model import generate\n",
    "from promptedgraphs.llms.openai_chat import LanguageModel\n",
    "from promptedgraphs.llms.usage import Usage\n",
    "from promptedgraphs.models import EntityReference\n",
    "from promptedgraphs.vis import ensure_entities, render_entities\n",
    "\n",
    "# Load Config to read OPENAI_API_KEY from .env file or environment variable\n",
    "config = load_config()\n",
    "config"
   ]
  },
  {
   "cell_type": "code",
   "execution_count": 12,
   "metadata": {},
   "outputs": [],
   "source": [
    "async def label_sentiment(text_of_reviews):\n",
    "    labels = {\n",
    "        \"POSITIVE\": \"A postive review of a product or service.\",\n",
    "        \"NEGATIVE\": \"A negative review of a product or service.\",\n",
    "        \"NEUTRAL\": \"A neutral review of a product or service.\",\n",
    "    }\n",
    "\n",
    "    ents = []\n",
    "    async for msg in entities_from_text(\n",
    "        name=\"sentiment\",\n",
    "        description=\"Sentiment Analysis of Customer Reviews\",\n",
    "        text=text_of_reviews,\n",
    "        labels=labels,\n",
    "        config=config,\n",
    "        include_reason=True,\n",
    "    ):\n",
    "        ents.append(msg)\n",
    "    return ents\n",
    "\n",
    "\n",
    "text_of_reviews = \"\"\"\n",
    "1. \"I absolutely love this product. It's been a game changer!\"\n",
    "2. \"The service was quite poor and the staff was rude.\"\n",
    "3. \"The item is okay. Nothing special, but it gets the job done.\"\n",
    "\"\"\".strip()\n",
    "\n",
    "ents = await label_sentiment(text_of_reviews)"
   ]
  },
  {
   "cell_type": "code",
   "execution_count": 13,
   "metadata": {},
   "outputs": [
    {
     "data": {
      "text/html": [
       "<span class=\"tex2jax_ignore\"><div class=\"entities\" style=\"line-height: 2.5; direction: ltr\">1. &quot;\n",
       "<mark class=\"entity\" style=\"background: #7aecec; padding: 0.45em 0.6em; margin: 0 0.25em; line-height: 1; border-radius: 0.35em;\">\n",
       "    I absolutely love this product. It's been a game changer!\n",
       "    <span style=\"font-size: 0.8em; font-weight: bold; line-height: 1; border-radius: 0.35em; vertical-align: middle; margin-left: 0.5rem\">POSITIVE</span>\n",
       "</mark>\n",
       "&quot;<br>2. &quot;\n",
       "<mark class=\"entity\" style=\"background: #f44336; padding: 0.45em 0.6em; margin: 0 0.25em; line-height: 1; border-radius: 0.35em;\">\n",
       "    The service was quite poor and the staff was rude.\n",
       "    <span style=\"font-size: 0.8em; font-weight: bold; line-height: 1; border-radius: 0.35em; vertical-align: middle; margin-left: 0.5rem\">NEGATIVE</span>\n",
       "</mark>\n",
       "&quot;<br>3. &quot;\n",
       "<mark class=\"entity\" style=\"background: #f4f442; padding: 0.45em 0.6em; margin: 0 0.25em; line-height: 1; border-radius: 0.35em;\">\n",
       "    The item is okay. Nothing special, but it gets the job done.\n",
       "    <span style=\"font-size: 0.8em; font-weight: bold; line-height: 1; border-radius: 0.35em; vertical-align: middle; margin-left: 0.5rem\">NEUTRAL</span>\n",
       "</mark>\n",
       "&quot;</div></span>"
      ],
      "text/plain": [
       "<IPython.core.display.HTML object>"
      ]
     },
     "metadata": {},
     "output_type": "display_data"
    }
   ],
   "source": [
    "render_entities(\n",
    "    text_of_reviews,\n",
    "    ents,\n",
    "    colors={\"POSITIVE\": \"#7aecec\", \"NEGATIVE\": \"#f44336\", \"NEUTRAL\": \"#f4f442\"},\n",
    ")"
   ]
  },
  {
   "cell_type": "code",
   "execution_count": 14,
   "metadata": {},
   "outputs": [
    {
     "data": {
      "text/plain": [
       "[EntityReference(start=4, end=61, label='POSITIVE', text=\"I absolutely love this product. It's been a game changer!\", reason='The text expresses love for the product and describes it as a game changer.'),\n",
       " EntityReference(start=67, end=117, label='NEGATIVE', text='The service was quite poor and the staff was rude.', reason='The text indicates poor service and rude staff.'),\n",
       " EntityReference(start=123, end=183, label='NEUTRAL', text='The item is okay. Nothing special, but it gets the job done.', reason='The text describes the item as okay and mentions it gets the job done.')]"
      ]
     },
     "execution_count": 14,
     "metadata": {},
     "output_type": "execute_result"
    }
   ],
   "source": [
    "# Here you can see the reasons\n",
    "ents"
   ]
  }
 ],
 "metadata": {
  "kernelspec": {
   "display_name": "Python 3 (ipykernel)",
   "language": "python",
   "name": "python3"
  },
  "language_info": {
   "codemirror_mode": {
    "name": "ipython",
    "version": 3
   },
   "file_extension": ".py",
   "mimetype": "text/x-python",
   "name": "python",
   "nbconvert_exporter": "python",
   "pygments_lexer": "ipython3",
   "version": "3.10.12"
  }
 },
 "nbformat": 4,
 "nbformat_minor": 4
}
