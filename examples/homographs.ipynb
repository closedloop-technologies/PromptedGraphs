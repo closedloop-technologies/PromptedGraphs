{
 "cells": [
  {
   "cell_type": "markdown",
   "metadata": {},
   "source": [
    "# Homograph Study\n",
    "\n",
    "A great innovation in LLM from first generation language models like GloVe and Word2Vec is that words with multiple meanings can have different representations with in a sentence.  For example a word like \"bat\" might mean a baseball bat or a flying mammal.\n",
    "\n",
    "A **homograph** is the technical term for a word with the same spelling but contains multiple meanings.\n",
    "\n",
    "Lets example we can look at the following GPT-4 embeddings for \"bat\", \"baseball bat\" and \"flying bat\""
   ]
  },
  {
   "cell_type": "markdown",
   "metadata": {},
   "source": [
    "### Imports"
   ]
  },
  {
   "cell_type": "code",
   "execution_count": 16,
   "metadata": {},
   "outputs": [],
   "source": [
    "import pprint\n",
    "import tqdm\n",
    "from pydantic import BaseModel, Field\n",
    "\n",
    "from promptedgraphs.config import Config\n",
    "from promptedgraphs.ideation import brainstorm\n",
    "from promptedgraphs.vis import render_entities, get_colors\n",
    "from itertools import combinations\n",
    "from sklearn.metrics.pairwise import cosine_distances\n",
    "from promptedgraphs.models import EntityReference\n",
    "import re"
   ]
  },
  {
   "cell_type": "markdown",
   "metadata": {},
   "source": [
    "## Data Model"
   ]
  },
  {
   "cell_type": "code",
   "execution_count": 17,
   "metadata": {},
   "outputs": [],
   "source": [
    "class Homographs(BaseModel):\n",
    "    \"\"\"A homograph is a word with multiple meanings, we show here the word, and two sentences with multiple uses of the word.\n",
    "    \"\"\"\n",
    "    homograph: str = Field(title=\"A word that is a homograph\", example=['bat'])\n",
    "    example_sentence1: str = Field(title=\"An example of the homograph used in a unique context\", example=['He took a swing with the baseball bat.'] )\n",
    "    example_sentence2: str = Field(title=\"A second example of the homograph used in a different context\", example=['The bat flew out of the cave at dusk.'])\n",
    "    context1: str = Field(title=\"A one word description of the homophone's context in example_sentence1\", examples=['sports'])\n",
    "    context2: str = Field(title=\"A one word description of the homophone's context in example_sentence2\", examples=['animal'])\n",
    "\n",
    "    def __repr__(self):\n",
    "        return f\"{self.homograph}:\\n * {self.context1}: {self.example_sentence1}\\n * {self.context2}: {self.example_sentence2}\\n\""
   ]
  },
  {
   "cell_type": "markdown",
   "metadata": {},
   "source": [
    "## Brainstorm Homographs (GPT 3.5 turbo generated examples)"
   ]
  },
  {
   "cell_type": "code",
   "execution_count": 18,
   "metadata": {},
   "outputs": [],
   "source": [
    "ideas = {}"
   ]
  },
  {
   "cell_type": "code",
   "execution_count": 19,
   "metadata": {},
   "outputs": [
    {
     "name": "stderr",
     "output_type": "stream",
     "text": [
      "wind: : 11it [03:18, 18.04s/it]\n",
      "bark: : 13it [00:22,  1.99s/it]   "
     ]
    }
   ],
   "source": [
    "ittr = tqdm.tqdm()\n",
    "async for idea in brainstorm(\n",
    "    text=Homographs.__doc__, \n",
    "    output_type=list[Homographs], \n",
    "    config=Config(),\n",
    "    n=40,\n",
    "    max_workers=2,\n",
    "    temperature=0.5\n",
    "):\n",
    "    if idea.homograph not in ideas:\n",
    "        ideas[idea.homograph] = idea\n",
    "        ittr.update(1)\n",
    "        ittr.set_description(idea.homograph)\n",
    "\n",
    "ideas = sorted(ideas.values(), key=lambda x: x.homograph)\n",
    "    # render_entities(f\"We help {idea.adj} {idea.target_audience} {idea.action} so they can {idea.benefit}\", idea)"
   ]
  },
  {
   "cell_type": "code",
   "execution_count": 20,
   "metadata": {},
   "outputs": [
    {
     "data": {
      "text/plain": [
       "bark:\n",
       " * animal: The dog's bark echoed through the neighborhood.\n",
       " * action: She will bark the tree to mark the trail."
      ]
     },
     "execution_count": 20,
     "metadata": {},
     "output_type": "execute_result"
    }
   ],
   "source": [
    "ideas[0]"
   ]
  },
  {
   "cell_type": "markdown",
   "metadata": {},
   "source": [
    "### Display Results"
   ]
  },
  {
   "cell_type": "code",
   "execution_count": 21,
   "metadata": {},
   "outputs": [
    {
     "data": {
      "text/html": [
       "<span class=\"tex2jax_ignore\"><div class=\"entities\" style=\"line-height: 2.5; direction: ltr\">The dog's \n",
       "<mark class=\"entity\" style=\"background: #fc8d62; padding: 0.45em 0.6em; margin: 0 0.25em; line-height: 1; border-radius: 0.35em;\">\n",
       "    bark\n",
       "    <span style=\"font-size: 0.8em; font-weight: bold; line-height: 1; border-radius: 0.35em; vertical-align: middle; margin-left: 0.5rem\">animal</span>\n",
       "</mark>\n",
       " echoed through the neighborhood.</div></span>"
      ],
      "text/plain": [
       "<IPython.core.display.HTML object>"
      ]
     },
     "metadata": {},
     "output_type": "display_data"
    },
    {
     "data": {
      "text/html": [
       "<span class=\"tex2jax_ignore\"><div class=\"entities\" style=\"line-height: 2.5; direction: ltr\">She will \n",
       "<mark class=\"entity\" style=\"background: #66c2a5; padding: 0.45em 0.6em; margin: 0 0.25em; line-height: 1; border-radius: 0.35em;\">\n",
       "    bark\n",
       "    <span style=\"font-size: 0.8em; font-weight: bold; line-height: 1; border-radius: 0.35em; vertical-align: middle; margin-left: 0.5rem\">action</span>\n",
       "</mark>\n",
       " the tree to mark the trail.</div></span>"
      ],
      "text/plain": [
       "<IPython.core.display.HTML object>"
      ]
     },
     "metadata": {},
     "output_type": "display_data"
    },
    {
     "data": {
      "text/html": [
       "<span class=\"tex2jax_ignore\"><div class=\"entities\" style=\"line-height: 2.5; direction: ltr\">He caught a big \n",
       "<mark class=\"entity\" style=\"background: #100d92f; padding: 0.45em 0.6em; margin: 0 0.25em; line-height: 1; border-radius: 0.35em;\">\n",
       "    bass\n",
       "    <span style=\"font-size: 0.8em; font-weight: bold; line-height: 1; border-radius: 0.35em; vertical-align: middle; margin-left: 0.5rem\">fish</span>\n",
       "</mark>\n",
       " while fishing.</div></span>"
      ],
      "text/plain": [
       "<IPython.core.display.HTML object>"
      ]
     },
     "metadata": {},
     "output_type": "display_data"
    },
    {
     "data": {
      "text/html": [
       "<span class=\"tex2jax_ignore\"><div class=\"entities\" style=\"line-height: 2.5; direction: ltr\">The band's \n",
       "<mark class=\"entity\" style=\"background: #ddd; padding: 0.45em 0.6em; margin: 0 0.25em; line-height: 1; border-radius: 0.35em;\">\n",
       "    bass\n",
       "    <span style=\"font-size: 0.8em; font-weight: bold; line-height: 1; border-radius: 0.35em; vertical-align: middle; margin-left: 0.5rem\">music</span>\n",
       "</mark>\n",
       " guitarist is very talented.</div></span>"
      ],
      "text/plain": [
       "<IPython.core.display.HTML object>"
      ]
     },
     "metadata": {},
     "output_type": "display_data"
    },
    {
     "data": {
      "text/html": [
       "<span class=\"tex2jax_ignore\"><div class=\"entities\" style=\"line-height: 2.5; direction: ltr\">The baseball player swung the \n",
       "<mark class=\"entity\" style=\"background: #ddd; padding: 0.45em 0.6em; margin: 0 0.25em; line-height: 1; border-radius: 0.35em;\">\n",
       "    bat\n",
       "    <span style=\"font-size: 0.8em; font-weight: bold; line-height: 1; border-radius: 0.35em; vertical-align: middle; margin-left: 0.5rem\">sports</span>\n",
       "</mark>\n",
       ".</div></span>"
      ],
      "text/plain": [
       "<IPython.core.display.HTML object>"
      ]
     },
     "metadata": {},
     "output_type": "display_data"
    },
    {
     "data": {
      "text/html": [
       "<span class=\"tex2jax_ignore\"><div class=\"entities\" style=\"line-height: 2.5; direction: ltr\">The \n",
       "<mark class=\"entity\" style=\"background: #fc8d62; padding: 0.45em 0.6em; margin: 0 0.25em; line-height: 1; border-radius: 0.35em;\">\n",
       "    bat\n",
       "    <span style=\"font-size: 0.8em; font-weight: bold; line-height: 1; border-radius: 0.35em; vertical-align: middle; margin-left: 0.5rem\">animal</span>\n",
       "</mark>\n",
       " flew out of the cave at dusk.</div></span>"
      ],
      "text/plain": [
       "<IPython.core.display.HTML object>"
      ]
     },
     "metadata": {},
     "output_type": "display_data"
    },
    {
     "data": {
      "text/html": [
       "<span class=\"tex2jax_ignore\"><div class=\"entities\" style=\"line-height: 2.5; direction: ltr\">She used a \n",
       "<mark class=\"entity\" style=\"background: #ddd; padding: 0.45em 0.6em; margin: 0 0.25em; line-height: 1; border-radius: 0.35em;\">\n",
       "    bow\n",
       "    <span style=\"font-size: 0.8em; font-weight: bold; line-height: 1; border-radius: 0.35em; vertical-align: middle; margin-left: 0.5rem\">ribbon</span>\n",
       "</mark>\n",
       " to tie the ribbon.</div></span>"
      ],
      "text/plain": [
       "<IPython.core.display.HTML object>"
      ]
     },
     "metadata": {},
     "output_type": "display_data"
    },
    {
     "data": {
      "text/html": [
       "<span class=\"tex2jax_ignore\"><div class=\"entities\" style=\"line-height: 2.5; direction: ltr\">The violinist took a \n",
       "<mark class=\"entity\" style=\"background: #ddd; padding: 0.45em 0.6em; margin: 0 0.25em; line-height: 1; border-radius: 0.35em;\">\n",
       "    bow\n",
       "    <span style=\"font-size: 0.8em; font-weight: bold; line-height: 1; border-radius: 0.35em; vertical-align: middle; margin-left: 0.5rem\">music</span>\n",
       "</mark>\n",
       " after the performance.</div></span>"
      ],
      "text/plain": [
       "<IPython.core.display.HTML object>"
      ]
     },
     "metadata": {},
     "output_type": "display_data"
    },
    {
     "data": {
      "text/html": [
       "<span class=\"tex2jax_ignore\"><div class=\"entities\" style=\"line-height: 2.5; direction: ltr\">Please \n",
       "<mark class=\"entity\" style=\"background: #66c2a5; padding: 0.45em 0.6em; margin: 0 0.25em; line-height: 1; border-radius: 0.35em;\">\n",
       "    close\n",
       "    <span style=\"font-size: 0.8em; font-weight: bold; line-height: 1; border-radius: 0.35em; vertical-align: middle; margin-left: 0.5rem\">action</span>\n",
       "</mark>\n",
       " the door behind you.</div></span>"
      ],
      "text/plain": [
       "<IPython.core.display.HTML object>"
      ]
     },
     "metadata": {},
     "output_type": "display_data"
    },
    {
     "data": {
      "text/html": [
       "<span class=\"tex2jax_ignore\"><div class=\"entities\" style=\"line-height: 2.5; direction: ltr\">The store is \n",
       "<mark class=\"entity\" style=\"background: #e78ac3; padding: 0.45em 0.6em; margin: 0 0.25em; line-height: 1; border-radius: 0.35em;\">\n",
       "    close\n",
       "    <span style=\"font-size: 0.8em; font-weight: bold; line-height: 1; border-radius: 0.35em; vertical-align: middle; margin-left: 0.5rem\">distance</span>\n",
       "</mark>\n",
       " to our house.</div></span>"
      ],
      "text/plain": [
       "<IPython.core.display.HTML object>"
      ]
     },
     "metadata": {},
     "output_type": "display_data"
    },
    {
     "data": {
      "text/html": [
       "<span class=\"tex2jax_ignore\"><div class=\"entities\" style=\"line-height: 2.5; direction: ltr\">She is \n",
       "<mark class=\"entity\" style=\"background: #ddd; padding: 0.45em 0.6em; margin: 0 0.25em; line-height: 1; border-radius: 0.35em;\">\n",
       "    content\n",
       "    <span style=\"font-size: 0.8em; font-weight: bold; line-height: 1; border-radius: 0.35em; vertical-align: middle; margin-left: 0.5rem\">satisfaction</span>\n",
       "</mark>\n",
       " with her life.</div></span>"
      ],
      "text/plain": [
       "<IPython.core.display.HTML object>"
      ]
     },
     "metadata": {},
     "output_type": "display_data"
    },
    {
     "data": {
      "text/html": [
       "<span class=\"tex2jax_ignore\"><div class=\"entities\" style=\"line-height: 2.5; direction: ltr\">The \n",
       "<mark class=\"entity\" style=\"background: #ddd; padding: 0.45em 0.6em; margin: 0 0.25em; line-height: 1; border-radius: 0.35em;\">\n",
       "    content\n",
       "    <span style=\"font-size: 0.8em; font-weight: bold; line-height: 1; border-radius: 0.35em; vertical-align: middle; margin-left: 0.5rem\">subject matter</span>\n",
       "</mark>\n",
       " of the book is interesting.</div></span>"
      ],
      "text/plain": [
       "<IPython.core.display.HTML object>"
      ]
     },
     "metadata": {},
     "output_type": "display_data"
    },
    {
     "data": {
      "text/html": [
       "<span class=\"tex2jax_ignore\"><div class=\"entities\" style=\"line-height: 2.5; direction: ltr\">She will \n",
       "<mark class=\"entity\" style=\"background: #66c2a5; padding: 0.45em 0.6em; margin: 0 0.25em; line-height: 1; border-radius: 0.35em;\">\n",
       "    lead\n",
       "    <span style=\"font-size: 0.8em; font-weight: bold; line-height: 1; border-radius: 0.35em; vertical-align: middle; margin-left: 0.5rem\">action</span>\n",
       "</mark>\n",
       " the team to victory.</div></span>"
      ],
      "text/plain": [
       "<IPython.core.display.HTML object>"
      ]
     },
     "metadata": {},
     "output_type": "display_data"
    },
    {
     "data": {
      "text/html": [
       "<span class=\"tex2jax_ignore\"><div class=\"entities\" style=\"line-height: 2.5; direction: ltr\">The paint contains \n",
       "<mark class=\"entity\" style=\"background: #b3b3b3; padding: 0.45em 0.6em; margin: 0 0.25em; line-height: 1; border-radius: 0.35em;\">\n",
       "    lead\n",
       "    <span style=\"font-size: 0.8em; font-weight: bold; line-height: 1; border-radius: 0.35em; vertical-align: middle; margin-left: 0.5rem\">metal</span>\n",
       "</mark>\n",
       ", so be cautious.</div></span>"
      ],
      "text/plain": [
       "<IPython.core.display.HTML object>"
      ]
     },
     "metadata": {},
     "output_type": "display_data"
    },
    {
     "data": {
      "text/html": [
       "<span class=\"tex2jax_ignore\"><div class=\"entities\" style=\"line-height: 2.5; direction: ltr\">Wait for a \n",
       "<mark class=\"entity\" style=\"background: #bfe1d9; padding: 0.45em 0.6em; margin: 0 0.25em; line-height: 1; border-radius: 0.35em;\">\n",
       "    minute\n",
       "    <span style=\"font-size: 0.8em; font-weight: bold; line-height: 1; border-radius: 0.35em; vertical-align: middle; margin-left: 0.5rem\">time</span>\n",
       "</mark>\n",
       ", I'll be right back.</div></span>"
      ],
      "text/plain": [
       "<IPython.core.display.HTML object>"
      ]
     },
     "metadata": {},
     "output_type": "display_data"
    },
    {
     "data": {
      "text/html": [
       "<span class=\"tex2jax_ignore\"><div class=\"entities\" style=\"line-height: 2.5; direction: ltr\">The details are very \n",
       "<mark class=\"entity\" style=\"background: #ddd; padding: 0.45em 0.6em; margin: 0 0.25em; line-height: 1; border-radius: 0.35em;\">\n",
       "    minute\n",
       "    <span style=\"font-size: 0.8em; font-weight: bold; line-height: 1; border-radius: 0.35em; vertical-align: middle; margin-left: 0.5rem\">size</span>\n",
       "</mark>\n",
       ".</div></span>"
      ],
      "text/plain": [
       "<IPython.core.display.HTML object>"
      ]
     },
     "metadata": {},
     "output_type": "display_data"
    },
    {
     "data": {
      "text/html": [
       "<span class=\"tex2jax_ignore\"><div class=\"entities\" style=\"line-height: 2.5; direction: ltr\">She will \n",
       "<mark class=\"entity\" style=\"background: #66c2a5; padding: 0.45em 0.6em; margin: 0 0.25em; line-height: 1; border-radius: 0.35em;\">\n",
       "    row\n",
       "    <span style=\"font-size: 0.8em; font-weight: bold; line-height: 1; border-radius: 0.35em; vertical-align: middle; margin-left: 0.5rem\">action</span>\n",
       "</mark>\n",
       " the boat across the lake.</div></span>"
      ],
      "text/plain": [
       "<IPython.core.display.HTML object>"
      ]
     },
     "metadata": {},
     "output_type": "display_data"
    },
    {
     "data": {
      "text/html": [
       "<span class=\"tex2jax_ignore\"><div class=\"entities\" style=\"line-height: 2.5; direction: ltr\">The students sat in a \n",
       "<mark class=\"entity\" style=\"background: #8da0cb; padding: 0.45em 0.6em; margin: 0 0.25em; line-height: 1; border-radius: 0.35em;\">\n",
       "    row\n",
       "    <span style=\"font-size: 0.8em; font-weight: bold; line-height: 1; border-radius: 0.35em; vertical-align: middle; margin-left: 0.5rem\">arrangement</span>\n",
       "</mark>\n",
       " in the classroom.</div></span>"
      ],
      "text/plain": [
       "<IPython.core.display.HTML object>"
      ]
     },
     "metadata": {},
     "output_type": "display_data"
    },
    {
     "data": {
      "text/html": [
       "<span class=\"tex2jax_ignore\"><div class=\"entities\" style=\"line-height: 2.5; direction: ltr\">She shed a \n",
       "<mark class=\"entity\" style=\"background: #a6d854; padding: 0.45em 0.6em; margin: 0 0.25em; line-height: 1; border-radius: 0.35em;\">\n",
       "    tear\n",
       "    <span style=\"font-size: 0.8em; font-weight: bold; line-height: 1; border-radius: 0.35em; vertical-align: middle; margin-left: 0.5rem\">emotion</span>\n",
       "</mark>\n",
       " while watching the movie.</div></span>"
      ],
      "text/plain": [
       "<IPython.core.display.HTML object>"
      ]
     },
     "metadata": {},
     "output_type": "display_data"
    },
    {
     "data": {
      "text/html": [
       "<span class=\"tex2jax_ignore\"><div class=\"entities\" style=\"line-height: 2.5; direction: ltr\">Be careful not to \n",
       "<mark class=\"entity\" style=\"background: #66c2a5; padding: 0.45em 0.6em; margin: 0 0.25em; line-height: 1; border-radius: 0.35em;\">\n",
       "    tear\n",
       "    <span style=\"font-size: 0.8em; font-weight: bold; line-height: 1; border-radius: 0.35em; vertical-align: middle; margin-left: 0.5rem\">action</span>\n",
       "</mark>\n",
       " the paper.</div></span>"
      ],
      "text/plain": [
       "<IPython.core.display.HTML object>"
      ]
     },
     "metadata": {},
     "output_type": "display_data"
    },
    {
     "data": {
      "text/html": [
       "<span class=\"tex2jax_ignore\"><div class=\"entities\" style=\"line-height: 2.5; direction: ltr\">I like to \n",
       "<mark class=\"entity\" style=\"background: #ddd; padding: 0.45em 0.6em; margin: 0 0.25em; line-height: 1; border-radius: 0.35em;\">\n",
       "    watch\n",
       "    <span style=\"font-size: 0.8em; font-weight: bold; line-height: 1; border-radius: 0.35em; vertical-align: middle; margin-left: 0.5rem\">observation</span>\n",
       "</mark>\n",
       " the stars at night.</div></span>"
      ],
      "text/plain": [
       "<IPython.core.display.HTML object>"
      ]
     },
     "metadata": {},
     "output_type": "display_data"
    },
    {
     "data": {
      "text/html": [
       "<span class=\"tex2jax_ignore\"><div class=\"entities\" style=\"line-height: 2.5; direction: ltr\">Please \n",
       "<mark class=\"entity\" style=\"background: #ddd; padding: 0.45em 0.6em; margin: 0 0.25em; line-height: 1; border-radius: 0.35em;\">\n",
       "    watch\n",
       "    <span style=\"font-size: 0.8em; font-weight: bold; line-height: 1; border-radius: 0.35em; vertical-align: middle; margin-left: 0.5rem\">timepiece</span>\n",
       "</mark>\n",
       " the time, we're running late.</div></span>"
      ],
      "text/plain": [
       "<IPython.core.display.HTML object>"
      ]
     },
     "metadata": {},
     "output_type": "display_data"
    },
    {
     "data": {
      "text/html": [
       "<span class=\"tex2jax_ignore\"><div class=\"entities\" style=\"line-height: 2.5; direction: ltr\">The \n",
       "<mark class=\"entity\" style=\"background: #ddd; padding: 0.45em 0.6em; margin: 0 0.25em; line-height: 1; border-radius: 0.35em;\">\n",
       "    wind\n",
       "    <span style=\"font-size: 0.8em; font-weight: bold; line-height: 1; border-radius: 0.35em; vertical-align: middle; margin-left: 0.5rem\">nature</span>\n",
       "</mark>\n",
       " blew the leaves off the trees.</div></span>"
      ],
      "text/plain": [
       "<IPython.core.display.HTML object>"
      ]
     },
     "metadata": {},
     "output_type": "display_data"
    },
    {
     "data": {
      "text/html": [
       "<span class=\"tex2jax_ignore\"><div class=\"entities\" style=\"line-height: 2.5; direction: ltr\">She had to \n",
       "<mark class=\"entity\" style=\"background: #66c2a5; padding: 0.45em 0.6em; margin: 0 0.25em; line-height: 1; border-radius: 0.35em;\">\n",
       "    wind\n",
       "    <span style=\"font-size: 0.8em; font-weight: bold; line-height: 1; border-radius: 0.35em; vertical-align: middle; margin-left: 0.5rem\">action</span>\n",
       "</mark>\n",
       " the clock every day to keep it running.</div></span>"
      ],
      "text/plain": [
       "<IPython.core.display.HTML object>"
      ]
     },
     "metadata": {},
     "output_type": "display_data"
    },
    {
     "data": {
      "text/html": [
       "<span class=\"tex2jax_ignore\"><div class=\"entities\" style=\"line-height: 2.5; direction: ltr\">The \n",
       "<mark class=\"entity\" style=\"background: #e5c494; padding: 0.45em 0.6em; margin: 0 0.25em; line-height: 1; border-radius: 0.35em;\">\n",
       "    wound\n",
       "    <span style=\"font-size: 0.8em; font-weight: bold; line-height: 1; border-radius: 0.35em; vertical-align: middle; margin-left: 0.5rem\">injury</span>\n",
       "</mark>\n",
       " on his arm was deep.</div></span>"
      ],
      "text/plain": [
       "<IPython.core.display.HTML object>"
      ]
     },
     "metadata": {},
     "output_type": "display_data"
    },
    {
     "data": {
      "text/html": [
       "<span class=\"tex2jax_ignore\"><div class=\"entities\" style=\"line-height: 2.5; direction: ltr\">He \n",
       "<mark class=\"entity\" style=\"background: #66c2a5; padding: 0.45em 0.6em; margin: 0 0.25em; line-height: 1; border-radius: 0.35em;\">\n",
       "    wound\n",
       "    <span style=\"font-size: 0.8em; font-weight: bold; line-height: 1; border-radius: 0.35em; vertical-align: middle; margin-left: 0.5rem\">action</span>\n",
       "</mark>\n",
       " the rope around the pole.</div></span>"
      ],
      "text/plain": [
       "<IPython.core.display.HTML object>"
      ]
     },
     "metadata": {},
     "output_type": "display_data"
    }
   ],
   "source": [
    "docs = [(idea.example_sentence1, EntityReference(\n",
    "                    start=match.start(),\n",
    "                    end=match.end(),\n",
    "                    text=idea.homograph,\n",
    "                    label=idea.context1,\n",
    "                )) for i, idea in enumerate(ideas) for match in re.finditer(idea.homograph.lower(), idea.example_sentence1.lower())]\n",
    "docs += [(idea.example_sentence2, EntityReference(\n",
    "                    start=match.start(),\n",
    "                    end=match.end(),\n",
    "                    text=idea.homograph,\n",
    "                    label=idea.context2,\n",
    "                )) for i, idea in enumerate(ideas) for match in re.finditer(idea.homograph.lower(), idea.example_sentence2.lower())]\n",
    "docs.sort(key=lambda x: x[1].text)\n",
    "fields = sorted({doc[1].label for doc in docs})\n",
    "colors = get_colors(fields)\n",
    "\n",
    "for doc in docs:\n",
    "    render_entities(doc[0], ents=[doc[1]], colors=colors)"
   ]
  },
  {
   "cell_type": "markdown",
   "metadata": {},
   "source": [
    "### Exploration of Embeddings\n",
    "Lets take a look at the embeddings for each of these homograph.  I would assume that each of the homographs would be located \"between\" the embeddings of the various statements, bet lets see\"\n",
    "\n",
    "The first step is to calculate the distances between them to see if they behave "
   ]
  },
  {
   "cell_type": "code",
   "execution_count": 23,
   "metadata": {},
   "outputs": [
    {
     "name": "stderr",
     "output_type": "stream",
     "text": [
      "\n",
      "  0%|                                                                                                  | 0/13 [00:00<?, ?it/s]\u001b[A\n",
      "  8%|██████▉                                                                                   | 1/13 [00:04<00:51,  4.30s/it]\u001b[A\n",
      " 15%|█████████████▊                                                                            | 2/13 [00:06<00:35,  3.24s/it]\u001b[A\n",
      " 23%|████████████████████▊                                                                     | 3/13 [00:09<00:30,  3.10s/it]\u001b[A\n",
      " 31%|███████████████████████████▋                                                              | 4/13 [00:11<00:22,  2.51s/it]\u001b[A\n",
      " 38%|██████████████████████████████████▌                                                       | 5/13 [00:12<00:17,  2.18s/it]\u001b[A\n",
      " 46%|█████████████████████████████████████████▌                                                | 6/13 [00:17<00:22,  3.15s/it]\u001b[A\n",
      " 54%|████████████████████████████████████████████████▍                                         | 7/13 [00:23<00:23,  3.95s/it]\u001b[A\n",
      " 62%|███████████████████████████████████████████████████████▍                                  | 8/13 [00:24<00:15,  3.06s/it]\u001b[A\n",
      " 69%|██████████████████████████████████████████████████████████████▎                           | 9/13 [00:26<00:10,  2.54s/it]\u001b[A\n",
      " 77%|████████████████████████████████████████████████████████████████████▍                    | 10/13 [00:30<00:08,  2.98s/it]\u001b[A\n",
      " 85%|███████████████████████████████████████████████████████████████████████████▎             | 11/13 [00:31<00:05,  2.61s/it]\u001b[A\n",
      " 92%|██████████████████████████████████████████████████████████████████████████████████▏      | 12/13 [00:33<00:02,  2.37s/it]\u001b[A\n",
      "100%|█████████████████████████████████████████████████████████████████████████████████████████| 13/13 [00:34<00:00,  2.69s/it]\u001b[A\n"
     ]
    }
   ],
   "source": [
    "from openai import OpenAI\n",
    "import tqdm\n",
    "client = OpenAI()\n",
    "\n",
    "def get_embedding(text, model=\"text-embedding-3-small\"):\n",
    "   text = text.replace(\"\\n\", \" \")\n",
    "   return client.embeddings.create(input = [text], model=model).data[0].embedding\n",
    "\n",
    "embeddings = {}\n",
    "for i, idea in tqdm.tqdm(enumerate(ideas), total=len(ideas)):\n",
    "    embeddings[idea.homograph] = get_embedding(idea.homograph, model='text-embedding-3-small')\n",
    "    embeddings[idea.example_sentence1] = get_embedding(idea.example_sentence1, model='text-embedding-3-small')\n",
    "    embeddings[idea.example_sentence2] = get_embedding(idea.example_sentence2, model='text-embedding-3-small')\n",
    "    embeddings[idea.context1] = get_embedding(idea.context1, model='text-embedding-3-small')\n",
    "    embeddings[idea.context2] = get_embedding(idea.context2, model='text-embedding-3-small')"
   ]
  },
  {
   "cell_type": "code",
   "execution_count": 34,
   "metadata": {},
   "outputs": [
    {
     "name": "stdout",
     "output_type": "stream",
     "text": [
      "The dog's bark echoed through the neighborhood. Norm: 1.0000000530450577\n"
     ]
    },
    {
     "data": {
      "text/plain": [
       "<Axes: >"
      ]
     },
     "execution_count": 34,
     "metadata": {},
     "output_type": "execute_result"
    },
    {
     "data": {
      "image/png": "[encoded data removed]",
      "text/plain": [
       "<Figure size 640x480 with 1 Axes>"
      ]
     },
     "metadata": {},
     "output_type": "display_data"
    }
   ],
   "source": [
    "len(embeddings)\n",
    "import numpy as np\n",
    "k = list(embeddings.keys())[1]\n",
    "print(k, 'Norm:', np.dot(embeddings[k],embeddings[k]))\n",
    "\n",
    "import pandas as pd\n",
    "pd.Series(embeddings[k], name=k).plot()"
   ]
  },
  {
   "cell_type": "markdown",
   "metadata": {},
   "source": [
    "## Issues for RAG\n",
    "\n",
    "How to homographs in our database affect our RAG systems.  Lets say we have a request to generate information about **sound**.\n",
    "\n",
    "Our vector retrieval system looks for sentences in the database with a close proximity to 'sound'.  Lets look at the top matches:\n",
    "\n"
   ]
  },
  {
   "cell_type": "code",
   "execution_count": null,
   "metadata": {},
   "outputs": [],
   "source": []
  },
  {
   "cell_type": "code",
   "execution_count": null,
   "metadata": {},
   "outputs": [],
   "source": []
  },
  {
   "cell_type": "code",
   "execution_count": null,
   "metadata": {},
   "outputs": [],
   "source": [
    "for doc in docs:\n",
    "    render_entities(doc[0], ents=[doc[1]], colors=colors)"
   ]
  },
  {
   "cell_type": "code",
   "execution_count": null,
   "metadata": {},
   "outputs": [],
   "source": [
    "print(ideas[0])"
   ]
  },
  {
   "cell_type": "code",
   "execution_count": null,
   "metadata": {},
   "outputs": [],
   "source": [
    "rag_example_query = ideas[0].context1\n",
    "rag_example_query\n",
    "rag_example_embedding = np.array(embeddings[0][4])\n",
    "\n",
    "print(f\"Searching for {rag_example_query}\")\n",
    "pprint.pprint( \n",
    "    sorted([(ideas[0].example_sentence1, np.dot(rag_example_embedding, embeddings[0][2])),\n",
    "    (ideas[0].example_sentence2, np.dot(rag_example_embedding, embeddings[0][3]))\n",
    "    ]))"
   ]
  },
  {
   "cell_type": "code",
   "execution_count": null,
   "metadata": {},
   "outputs": [],
   "source": [
    "\n",
    "# Function to check the triangle inequality for all combinations of three vectors\n",
    "def check_triangle_inequality(distances):\n",
    "    n = len(distances)  # Number of vectors\n",
    "    results = []  # Store results of checks\n",
    "    for i, j, k in combinations(range(n), 3):\n",
    "        # Check triangle inequality for each combination of three vectors\n",
    "        if distances[i][j] + distances[j][k] >= distances[i][k] and \\\n",
    "           distances[i][k] + distances[k][j] >= distances[i][j] and \\\n",
    "           distances[j][i] + distances[i][k] >= distances[j][k]:\n",
    "            results.append(((i, j, k), True))\n",
    "        else:\n",
    "            results.append(((i, j, k), False))\n",
    "    return results"
   ]
  },
  {
   "cell_type": "code",
   "execution_count": null,
   "metadata": {},
   "outputs": [],
   "source": [
    "# Check which relations satisfy the triangle inequality\n",
    "for i,_ in enumerate(embeddings):\n",
    "    pairwise_distances = cosine_distances(embeddings[i][1:])\n",
    "    triangle_inequality_results = check_triangle_inequality(pairwise_distances)\n",
    "    failed_triangles = len([_ for _ in triangle_inequality_results if not _[1]])\n",
    "    # print(i, failed_triangles)\n",
    "    if failed_triangles:\n",
    "        print(ideas[i])\n",
    "        print(triangle_inequality_results)"
   ]
  },
  {
   "cell_type": "code",
   "execution_count": null,
   "metadata": {},
   "outputs": [],
   "source": [
    "import networkx as nx\n",
    "import matplotlib.pyplot as plt\n",
    "\n",
    "i = 0\n",
    "pairwise_distances = cosine_distances(embeddings[i][1:])\n",
    "idea = ideas[i]\n",
    "\n",
    "# Create a graph from the distance matrix\n",
    "G = nx.Graph()\n",
    "\n",
    "# Add nodes\n",
    "node_names = [\n",
    "    idea.homograph,\n",
    "    f\"example({idea.context1})\",\n",
    "    f\"example({idea.context2})\",\n",
    "    f\"{idea.context1}\",\n",
    "    f\"{idea.context2}\",\n",
    "]\n",
    "for name in node_names:\n",
    "    G.add_node(name)\n",
    "\n",
    "# Add edges with distances as weights\n",
    "for i in range(len(pairwise_distances)):\n",
    "    for j in range(i+1, len(pairwise_distances)):\n",
    "        # Add edge with distance as weight if not zero\n",
    "        if pairwise_distances[i][j] > 0:\n",
    "            G.add_edge(node_names[i], node_names[j], weight=1./pairwise_distances[i][j], distance=pairwise_distances[i][j])\n",
    "\n",
    "# Position nodes using the spring layout\n",
    "pos = nx.spring_layout(G)\n",
    "\n",
    "# Draw the graph\n",
    "plt.figure(figsize=(8, 6))\n",
    "nx.draw(G, pos, with_labels=True, node_color='skyblue', node_size=700, edge_color='k', linewidths=1, font_size=15)\n",
    "\n",
    "# Draw edge labels corresponding to the distances\n",
    "edge_labels = {e[0]: f\"{e[1]*100:.1f}%\" for e in nx.get_edge_attributes(G, 'distance').items()}\n",
    "nx.draw_networkx_edge_labels(G, pos, edge_labels=edge_labels)\n",
    "\n",
    "plt.suptitle('Network Graph of Nodes with Cosine Distances as Edge Lengths')\n",
    "plt.axis('off')  # Turn off the axis\n",
    "plt.title(pprint.pformat(idea))\n",
    "plt.show()\n"
   ]
  },
  {
   "cell_type": "code",
   "execution_count": null,
   "metadata": {},
   "outputs": [],
   "source": [
    "from mpl_toolkits.mplot3d import Axes3D\n",
    "import numpy as np\n",
    "\n",
    "# Reuse the previous graph structure\n",
    "G_custom_3d = G.copy()\n",
    "\n",
    "# Generate 3D positions for the nodes (this can be random or structured depending on your preference)\n",
    "pos_3d = nx.spring_layout(G_custom_3d, dim=3)\n",
    "\n",
    "# Extract the xyz coordinates from pos_3d for plotting\n",
    "xyz = np.array([pos_3d[v] for v in sorted(G_custom_3d)])\n",
    "\n",
    "# Create a 3D plot\n",
    "fig = plt.figure(figsize=(10, 8))\n",
    "ax = fig.add_subplot(111, projection='3d')\n",
    "\n",
    "# Plot nodes\n",
    "ax.scatter(xyz[:, 0], xyz[:, 1], xyz[:, 2], c='skyblue', s=100)\n",
    "\n",
    "# Plot edges\n",
    "for i, j in G_custom_3d.edges():\n",
    "    x = np.array((pos_3d[i][0], pos_3d[j][0]))\n",
    "    y = np.array((pos_3d[i][1], pos_3d[j][1]))\n",
    "    z = np.array((pos_3d[i][2], pos_3d[j][2]))\n",
    "    ax.plot(x, y, z, c='gray')\n",
    "\n",
    "# Annotate node names\n",
    "for name, (x, y, z) in pos_3d.items():\n",
    "    ax.text(x, y, z, name, color='black')\n",
    "\n",
    "ax.set_title('3D Network Graph with Custom Node Names')\n",
    "ax.set_xlabel('X')\n",
    "ax.set_ylabel('Y')\n",
    "ax.set_zlabel('Z')\n",
    "plt.show()\n"
   ]
  },
  {
   "cell_type": "code",
   "execution_count": null,
   "metadata": {},
   "outputs": [],
   "source": []
  },
  {
   "cell_type": "code",
   "execution_count": null,
   "metadata": {},
   "outputs": [],
   "source": [
    "## T-SNE\n",
    "from sklearn.manifold import TSNE\n",
    "import seaborn as sns\n",
    "\n",
    "# Original embeddings (vectors)\n",
    "# X = np.array(embeddings[0][1:])\n",
    "X = np.concatenate([np.array(v[1:]) for v in embeddings], axis=0)\n",
    "\n",
    "# Create a t-SNE model\n",
    "tsne = TSNE(n_components=2, random_state=42, perplexity=4)  # Using 2 components for 2D visualization\n",
    "\n",
    "# Fit and transform the data with t-SNE\n",
    "X_tsne = tsne.fit_transform(X)\n",
    "\n",
    "palette = sns.color_palette(\"bright\", len(ideas))\n",
    "\n",
    "# Plot the t-SNE transformed data\n",
    "plt.figure(figsize=(12, 9))\n",
    "k = -1\n",
    "for i in range(len(X_tsne)):\n",
    "    if i % 5 == 0:\n",
    "        k += 1\n",
    "        idea = ideas[k]\n",
    "        node_names = [\n",
    "            idea.homograph,\n",
    "            f\"ex1\",\n",
    "            f\"ex2\",\n",
    "            f\"c1:{idea.context1}\",\n",
    "            f\"c2:{idea.context2}\",\n",
    "        ]\n",
    "    plt.scatter(X_tsne[i, 0], X_tsne[i, 1], color=palette[k])\n",
    "    plt.text(X_tsne[i, 0], X_tsne[i, 1], node_names[i % 5], fontdict={'size': 10})\n",
    "\n",
    "plt.xlabel('t-SNE Feature 1')\n",
    "plt.ylabel('t-SNE Feature 2')\n",
    "plt.title('t-SNE Visualization of Original Embeddings')\n",
    "plt.show()"
   ]
  },
  {
   "cell_type": "code",
   "execution_count": null,
   "metadata": {},
   "outputs": [],
   "source": []
  },
  {
   "cell_type": "code",
   "execution_count": null,
   "metadata": {},
   "outputs": [],
   "source": [
    "node_names"
   ]
  },
  {
   "cell_type": "markdown",
   "metadata": {},
   "source": [
    "# Advanced usage\n",
    "\n",
    "Positive, examples, negative examples and refining the topic area"
   ]
  },
  {
   "cell_type": "markdown",
   "metadata": {},
   "source": [
    "## \"Work from home dads\" - Niche"
   ]
  },
  {
   "cell_type": "code",
   "execution_count": null,
   "metadata": {},
   "outputs": [],
   "source": [
    "niche_ideas = []\n",
    "async for idea in brainstorm(\n",
    "    text=BusinessIdea.__doc__ + \"\\n in the Work from home dads niche\", \n",
    "    output_type=list[BusinessIdea], \n",
    "    config=Config(),\n",
    "    n=5,\n",
    "):\n",
    "    niche_ideas.append(idea)\n",
    "    render_entities(f\"We help {idea.adj} {idea.target_audience} {idea.action} so they can {idea.benefit}\", idea)"
   ]
  },
  {
   "cell_type": "markdown",
   "metadata": {},
   "source": [
    "### Nudging results with few-shot prompting"
   ]
  },
  {
   "cell_type": "code",
   "execution_count": null,
   "metadata": {},
   "outputs": [],
   "source": [
    "niche_ideas[0]"
   ]
  },
  {
   "cell_type": "code",
   "execution_count": null,
   "metadata": {},
   "outputs": [],
   "source": [
    "niche_ideas[-1]"
   ]
  },
  {
   "cell_type": "markdown",
   "metadata": {},
   "source": [
    "### More 'family time' results"
   ]
  },
  {
   "cell_type": "code",
   "execution_count": null,
   "metadata": {},
   "outputs": [],
   "source": [
    "new_niche_ideas = []\n",
    "async for idea in brainstorm(\n",
    "    text=BusinessIdea.__doc__ + \"\\n in the Work from home dads niche\", \n",
    "    output_type=list[BusinessIdea], \n",
    "    config=Config(),\n",
    "    positive_examples=[niche_ideas[0]],\n",
    "    negative_examples=[niche_ideas[-1]],\n",
    "    n=5,\n",
    "):\n",
    "    new_niche_ideas.append(idea)\n",
    "    render_entities(f\"We help {idea.adj} {idea.target_audience} {idea.action} so they can {idea.benefit}\", idea)"
   ]
  },
  {
   "cell_type": "markdown",
   "metadata": {},
   "source": [
    "## More Career oriented results"
   ]
  },
  {
   "cell_type": "code",
   "execution_count": null,
   "metadata": {},
   "outputs": [],
   "source": [
    "new_niche_ideas = []\n",
    "async for idea in brainstorm(\n",
    "    text=BusinessIdea.__doc__ + \"\\n in the Work from home dads niche\", \n",
    "    output_type=list[BusinessIdea], \n",
    "    config=Config(),\n",
    "    positive_examples=[niche_ideas[-1]],\n",
    "    negative_examples=[niche_ideas[0]],\n",
    "    n=5,\n",
    "):\n",
    "    new_niche_ideas.append(idea)\n",
    "    render_entities(f\"We help {idea.adj} {idea.target_audience} {idea.action} so they can {idea.benefit}\", idea)"
   ]
  },
  {
   "cell_type": "code",
   "execution_count": null,
   "metadata": {},
   "outputs": [],
   "source": []
  }
 ],
 "metadata": {
  "kernelspec": {
   "display_name": "Python 3 (ipykernel)",
   "language": "python",
   "name": "python3"
  },
  "language_info": {
   "codemirror_mode": {
    "name": "ipython",
    "version": 3
   },
   "file_extension": ".py",
   "mimetype": "text/x-python",
   "name": "python",
   "nbconvert_exporter": "python",
   "pygments_lexer": "ipython3",
   "version": "3.10.12"
  }
 },
 "nbformat": 4,
 "nbformat_minor": 4
}
