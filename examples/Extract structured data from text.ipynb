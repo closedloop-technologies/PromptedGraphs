{
 "cells": [
  {
   "cell_type": "markdown",
   "metadata": {},
   "source": [
    "# Extract structured data from text"
   ]
  },
  {
   "cell_type": "code",
   "execution_count": 1,
   "metadata": {},
   "outputs": [],
   "source": [
    "from pydantic import BaseModel, Field\n",
    "\n",
    "from promptedgraphs.config import Config, load_config\n",
    "from promptedgraphs.extraction.data_from_text import data_from_text\n",
    "\n",
    "\n",
    "class UserIntent(BaseModel):\n",
    "    \"\"\"The UserIntent entity, representing the canonical description of what a user desires to achieve in a given conversation.\"\"\"\n",
    "\n",
    "    intent_name: str = Field(\n",
    "        title=\"Intent Name\",\n",
    "        description=\"Canonical name of the user's intent\",\n",
    "        examples=[\n",
    "            \"question\",\n",
    "            \"command\",\n",
    "            \"clarification\",\n",
    "            \"chit_chat\",\n",
    "            \"greeting\",\n",
    "            \"feedback\",\n",
    "            \"nonsensical\",\n",
    "            \"closing\",\n",
    "            \"harrassment\",\n",
    "            \"unknown\"\n",
    "        ],\n",
    "    )\n",
    "    description: str | None = Field(\n",
    "        title=\"Intent Description\",\n",
    "        description=\"A detailed explanation of the user's intent\",\n",
    "    )\n",
    "\n"
   ]
  },
  {
   "cell_type": "code",
   "execution_count": 2,
   "metadata": {},
   "outputs": [
    {
     "name": "stdout",
     "output_type": "stream",
     "text": [
      "intent_name='question' description='How can I learn more about your product?'\n"
     ]
    }
   ],
   "source": [
    "load_config()\n",
    "\n",
    "msg = \"\"\"How can I learn more about your product?\"\"\"\n",
    "async for intent in data_from_text(\n",
    "    text=msg, output_type=UserIntent, config=Config()\n",
    "):\n",
    "    print(intent)\n"
   ]
  },
  {
   "cell_type": "code",
   "execution_count": 6,
   "metadata": {},
   "outputs": [],
   "source": [
    "class UserTask(BaseModel):\n",
    "    \"\"\"A specific TODO item\"\"\"\n",
    "\n",
    "    task_name: str = Field(\n",
    "        title=\"Task Name\",\n",
    "        description=\"Canonical name of the user's task, usually a verb\",\n",
    "    )\n",
    "\n"
   ]
  },
  {
   "cell_type": "code",
   "execution_count": 7,
   "metadata": {},
   "outputs": [
    {
     "name": "stdout",
     "output_type": "stream",
     "text": [
      "task_name='send an email'\n",
      "task_name='buy groceries'\n"
     ]
    }
   ],
   "source": [
    "msg = \"\"\"It's a busy day, I need to send an email and to buy groceries\"\"\"\n",
    "async for intent in data_from_text(\n",
    "    text=msg, output_type=UserTask, config=Config()\n",
    "):\n",
    "    print(intent)"
   ]
  },
  {
   "cell_type": "code",
   "execution_count": null,
   "metadata": {},
   "outputs": [],
   "source": []
  }
 ],
 "metadata": {
  "kernelspec": {
   "display_name": "Python 3 (ipykernel)",
   "language": "python",
   "name": "python3"
  },
  "language_info": {
   "codemirror_mode": {
    "name": "ipython",
    "version": 3
   },
   "file_extension": ".py",
   "mimetype": "text/x-python",
   "name": "python",
   "nbconvert_exporter": "python",
   "pygments_lexer": "ipython3",
   "version": "3.10.12"
  }
 },
 "nbformat": 4,
 "nbformat_minor": 4
}
