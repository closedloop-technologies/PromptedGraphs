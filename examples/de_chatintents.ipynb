{
 "cells": [
  {
   "cell_type": "markdown",
   "metadata": {},
   "source": [
    "# Extract structured data from text"
   ]
  },
  {
   "cell_type": "code",
   "execution_count": 1,
   "metadata": {},
   "outputs": [],
   "source": [
    "from pydantic import BaseModel, Field\n",
    "\n",
    "from promptedgraphs.config import Config, load_config\n",
    "from promptedgraphs.data_extraction import extract_data\n",
    "\n",
    "\n",
    "class UserIntent(BaseModel):\n",
    "    \"\"\"The UserIntent entity, representing the canonical description of what a user desires to achieve in a given conversation.\"\"\"\n",
    "\n",
    "    intent_name: str = Field(\n",
    "        title=\"Intent Name\",\n",
    "        description=\"Canonical name of the user's intent\",\n",
    "        examples=[\n",
    "            \"question\",\n",
    "            \"command\",\n",
    "            \"clarification\",\n",
    "            \"chit_chat\",\n",
    "            \"greeting\",\n",
    "            \"feedback\",\n",
    "            \"nonsensical\",\n",
    "            \"closing\",\n",
    "            \"harrassment\",\n",
    "            \"unknown\"\n",
    "        ],\n",
    "    )\n",
    "    description: str | None = Field(\n",
    "        title=\"Intent Description\",\n",
    "        description=\"A detailed explanation of the user's intent\",\n",
    "    )\n",
    "\n"
   ]
  },
  {
   "cell_type": "code",
   "execution_count": 2,
   "metadata": {},
   "outputs": [
    {
     "name": "stdout",
     "output_type": "stream",
     "text": [
      "intent_name='question' description='How can I learn more about your product?'\n"
     ]
    }
   ],
   "source": [
    "load_config()\n",
    "\n",
    "msg = \"\"\"How can I learn more about your product?\"\"\"\n",
    "async for intent in extract_data(\n",
    "    text=msg, output_type=UserIntent, config=Config()\n",
    "):\n",
    "    print(intent)\n"
   ]
  },
  {
   "cell_type": "code",
   "execution_count": 3,
   "metadata": {},
   "outputs": [
    {
     "name": "stdout",
     "output_type": "stream",
     "text": [
      "intent_name='task' description='User wants to complete a task'\n",
      "intent_name='communication' description='User wants to send an email'\n",
      "intent_name='shopping' description='User wants to buy groceries'\n"
     ]
    }
   ],
   "source": [
    "msg = \"\"\"It's a busy day, I need to send an email and to buy groceries\"\"\"\n",
    "async for intent in extract_data(\n",
    "    text=msg, output_type=list[UserIntent], config=Config()\n",
    "):\n",
    "    print(intent)"
   ]
  }
 ],
 "metadata": {
  "kernelspec": {
   "display_name": "Python 3 (ipykernel)",
   "language": "python",
   "name": "python3"
  },
  "language_info": {
   "codemirror_mode": {
    "name": "ipython",
    "version": 3
   },
   "file_extension": ".py",
   "mimetype": "text/x-python",
   "name": "python",
   "nbconvert_exporter": "python",
   "pygments_lexer": "ipython3",
   "version": "3.10.12"
  }
 },
 "nbformat": 4,
 "nbformat_minor": 2
}
