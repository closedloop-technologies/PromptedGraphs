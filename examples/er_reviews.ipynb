{
 "cells": [
  {
   "cell_type": "markdown",
   "metadata": {},
   "source": [
    "# Text Labeling Task: Sentiment Analysis of Customer Reviews"
   ]
  },
  {
   "cell_type": "code",
   "execution_count": 1,
   "metadata": {},
   "outputs": [],
   "source": [
    "from promptedgraphs.vis import render_entities\n",
    "from promptedgraphs.config import Config, load_config\n",
    "from promptedgraphs.entity_recognition import extract_entities\n",
    "\n",
    "_ = load_config()"
   ]
  },
  {
   "cell_type": "code",
   "execution_count": 2,
   "metadata": {},
   "outputs": [
    {
     "name": "stdout",
     "output_type": "stream",
     "text": [
      "EntityReference(start=4, end=35, label='POSITIVE', text='I absolutely love this product.', reason=None)\n",
      "EntityReference(start=36, end=61, label='POSITIVE', text=\"It's been a game changer!\", reason=None)\n",
      "EntityReference(start=67, end=93, label='NEGATIVE', text='The service was quite poor', reason=None)\n",
      "EntityReference(start=98, end=117, label='NEGATIVE', text='the staff was rude.', reason=None)\n",
      "EntityReference(start=123, end=140, label='NEUTRAL', text='The item is okay.', reason=None)\n",
      "EntityReference(start=141, end=183, label='NEUTRAL', text='Nothing special, but it gets the job done.', reason=None)\n"
     ]
    }
   ],
   "source": [
    "async def label_sentiment(text_of_reviews):\n",
    "\n",
    "    labels = {\n",
    "        \"POSITIVE\": \"A postive review of a product or service.\",\n",
    "        \"NEGATIVE\": \"A negative review of a product or service.\",\n",
    "        \"NEUTRAL\": \"A neutral review of a product or service.\",\n",
    "    }\n",
    "\n",
    "    ents = []\n",
    "    async for msg in extract_entities(\n",
    "        name=\"sentiment\",\n",
    "        description=\"Sentiment Analysis of Customer Reviews\",\n",
    "        text=text_of_reviews,\n",
    "        labels=labels,\n",
    "        config=Config(),\n",
    "        include_reason=False,\n",
    "    ):\n",
    "        ents.append(msg)\n",
    "        print(msg)\n",
    "    return ents\n",
    "\n",
    "\n",
    "text_of_reviews = \"\"\"\n",
    "1. \"I absolutely love this product. It's been a game changer!\"\n",
    "2. \"The service was quite poor and the staff was rude.\"\n",
    "3. \"The item is okay. Nothing special, but it gets the job done.\"\n",
    "\"\"\".strip()\n",
    "\n",
    "ents = await label_sentiment(text_of_reviews)"
   ]
  },
  {
   "cell_type": "code",
   "execution_count": 4,
   "metadata": {},
   "outputs": [
    {
     "data": {
      "text/html": [
       "<span class=\"tex2jax_ignore\"><div class=\"entities\" style=\"line-height: 2.5; direction: ltr\">1. &quot;\n",
       "<mark class=\"entity\" style=\"background: #7aecec; padding: 0.45em 0.6em; margin: 0 0.25em; line-height: 1; border-radius: 0.35em;\">\n",
       "    I absolutely love this product.\n",
       "    <span style=\"font-size: 0.8em; font-weight: bold; line-height: 1; border-radius: 0.35em; vertical-align: middle; margin-left: 0.5rem\">POSITIVE</span>\n",
       "</mark>\n",
       " \n",
       "<mark class=\"entity\" style=\"background: #7aecec; padding: 0.45em 0.6em; margin: 0 0.25em; line-height: 1; border-radius: 0.35em;\">\n",
       "    It's been a game changer!\n",
       "    <span style=\"font-size: 0.8em; font-weight: bold; line-height: 1; border-radius: 0.35em; vertical-align: middle; margin-left: 0.5rem\">POSITIVE</span>\n",
       "</mark>\n",
       "&quot;<br>2. &quot;\n",
       "<mark class=\"entity\" style=\"background: #f44336; padding: 0.45em 0.6em; margin: 0 0.25em; line-height: 1; border-radius: 0.35em;\">\n",
       "    The service was quite poor\n",
       "    <span style=\"font-size: 0.8em; font-weight: bold; line-height: 1; border-radius: 0.35em; vertical-align: middle; margin-left: 0.5rem\">NEGATIVE</span>\n",
       "</mark>\n",
       " and \n",
       "<mark class=\"entity\" style=\"background: #f44336; padding: 0.45em 0.6em; margin: 0 0.25em; line-height: 1; border-radius: 0.35em;\">\n",
       "    the staff was rude.\n",
       "    <span style=\"font-size: 0.8em; font-weight: bold; line-height: 1; border-radius: 0.35em; vertical-align: middle; margin-left: 0.5rem\">NEGATIVE</span>\n",
       "</mark>\n",
       "&quot;<br>3. &quot;\n",
       "<mark class=\"entity\" style=\"background: #f4f442; padding: 0.45em 0.6em; margin: 0 0.25em; line-height: 1; border-radius: 0.35em;\">\n",
       "    The item is okay.\n",
       "    <span style=\"font-size: 0.8em; font-weight: bold; line-height: 1; border-radius: 0.35em; vertical-align: middle; margin-left: 0.5rem\">NEUTRAL</span>\n",
       "</mark>\n",
       " \n",
       "<mark class=\"entity\" style=\"background: #f4f442; padding: 0.45em 0.6em; margin: 0 0.25em; line-height: 1; border-radius: 0.35em;\">\n",
       "    Nothing special, but it gets the job done.\n",
       "    <span style=\"font-size: 0.8em; font-weight: bold; line-height: 1; border-radius: 0.35em; vertical-align: middle; margin-left: 0.5rem\">NEUTRAL</span>\n",
       "</mark>\n",
       "&quot;</div></span>"
      ],
      "text/plain": [
       "<IPython.core.display.HTML object>"
      ]
     },
     "metadata": {},
     "output_type": "display_data"
    }
   ],
   "source": [
    "render_entities(text_of_reviews, ents, colors={\"POSITIVE\": \"#7aecec\", \"NEGATIVE\": \"#f44336\", \"NEUTRAL\": \"#f4f442\"})"
   ]
  },
  {
   "cell_type": "code",
   "execution_count": null,
   "metadata": {},
   "outputs": [],
   "source": [
    "\n",
    "from promptedgraphs.config import Config\n",
    "from promptedgraphs.entity_recognition import extract_entities\n",
    "\n",
    "labels = {\n",
    "    \"POSITIVE\": \"A postive review of a product or service.\",\n",
    "    \"NEGATIVE\": \"A negative review of a product or service.\",\n",
    "    \"NEUTRAL\": \"A neutral review of a product or service.\",\n",
    "}\n",
    "\n",
    "text_of_reviews = \"\"\"\n",
    "1. \"I absolutely love this product. It's been a game changer!\"\n",
    "2. \"The service was quite poor and the staff was rude.\"\n",
    "3. \"The item is okay. Nothing special, but it gets the job done.\"\n",
    "\"\"\".strip()\n",
    "\n",
    "\n",
    "\n",
    "# Label Sentiment\n",
    "ents = []\n",
    "async for msg in extract_entities(\n",
    "    name=\"sentiment\",\n",
    "    description=\"Sentiment Analysis of Customer Reviews\",\n",
    "    text=text_of_reviews,\n",
    "    labels=labels,\n",
    "    config=Config(), # Load Config to read OPENAI_API_KEY from .env file or environment variable\n",
    "):\n",
    "    ents.append(msg)\n",
    "\n",
    "render_entities(text_of_reviews, ents, colors={\"POSITIVE\": \"#7aecec\", \"NEGATIVE\": \"#f44336\", \"NEUTRAL\": \"#f4f442\"})"
   ]
  },
  {
   "cell_type": "code",
   "execution_count": null,
   "metadata": {},
   "outputs": [],
   "source": []
  }
 ],
 "metadata": {
  "kernelspec": {
   "display_name": "sean",
   "language": "python",
   "name": "sean"
  },
  "language_info": {
   "codemirror_mode": {
    "name": "ipython",
    "version": 3
   },
   "file_extension": ".py",
   "mimetype": "text/x-python",
   "name": "python",
   "nbconvert_exporter": "python",
   "pygments_lexer": "ipython3",
   "version": "3.10.12"
  }
 },
 "nbformat": 4,
 "nbformat_minor": 2
}
