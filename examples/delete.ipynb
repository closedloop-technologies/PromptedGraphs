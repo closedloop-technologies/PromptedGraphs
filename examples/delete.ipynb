{
 "cells": [
  {
   "cell_type": "code",
   "execution_count": 1,
   "id": "318804a2-fa4b-459a-acd0-599706cb31df",
   "metadata": {},
   "outputs": [
    {
     "name": "stdout",
     "output_type": "stream",
     "text": [
      "leys ['return_date', 'departure_date', 'travelers', 'activities', 'accomodations', 'expected_length_of_trip', 'trip_reason', 'interests', 'departure_location', 'budget', 'needs', 'accomodation_preferences', 'transportation_preferences', 'locations']\n"
     ]
    }
   ],
   "source": [
    "from promptedgraphs.entity_recognition import extract_entities\n",
    "from promptedgraphs.data_extraction import extract_data\n",
    "from promptedgraphs.config import Config\n",
    "\n",
    "from dotenv import load_dotenv\n",
    "\n",
    "load_dotenv() \n",
    "message = 'Could you suggest some must-visit tourist attractions in Japan during cherry blossom season?'\n",
    "labels ={\n",
    "    'travelers': 'A list of who is traveling, their ages, and relationships between each other', \n",
    "    'departure_date': 'Departure Date', \n",
    "    'return_date': 'Return Date', \n",
    "    'expected_length_of_trip': 'Expected Length of Trip', \n",
    "    'departure_location': 'Where the travelers are departing from', \n",
    "    'budget': 'Any information related to the expected costs or budget limitations for the trip', \n",
    "    'trip_reason': 'The purpose of the trip, e.g., fun, work, etc.', \n",
    "    'locations': 'A list of all locations mentioned in the request', \n",
    "    'accomodations': 'A list of all hotels and other accommodations mentioned in the request', \n",
    "    'activities': 'A list of all activities and travel interests mentioned in the request', \n",
    "    'needs': 'Accessibility, dietary restrictions, or medical considerations', \n",
    "    'accomodation_preferences': 'Preference for types of lodging such as hotels, Airbnbs, or opinions on places to stay', \n",
    "    'transportation_preferences': 'Any preference related to how they like to travel between destinations and generally on the trip', \n",
    "    'interests': 'Other interests mentioned that the travelers would likely enjoy doing'}\n",
    "\n",
    "import random\n",
    "keys = sorted(labels.keys())\n",
    "random.shuffle(keys)\n",
    "\n",
    "print(\"leys\", keys)"
   ]
  },
  {
   "cell_type": "code",
   "execution_count": 2,
   "id": "67a243bd-d57f-490a-9234-3495afc14ef4",
   "metadata": {},
   "outputs": [
    {
     "name": "stdout",
     "output_type": "stream",
     "text": [
      "0 ['return_date', 'departure_date', 'travelers', 'activities', 'accomodations']\n",
      "5 ['expected_length_of_trip', 'trip_reason', 'interests', 'departure_location', 'budget']\n",
      "10 ['needs', 'accomodation_preferences', 'transportation_preferences', 'locations']\n"
     ]
    }
   ],
   "source": [
    "for i in range(0, len(keys), 5):\n",
    "    print(i, keys[i:i+5])\n",
    "    async for state in extract_entities(\n",
    "                        text=message, \n",
    "                        labels={k:v for k,v in labels.items() if k in keys[i:i+5]},\n",
    "                        name=\"travel_info\",\n",
    "                        description = \"Find closely matching travel information from text\",\n",
    "                        config=Config()):\n",
    "        print(state)"
   ]
  },
  {
   "cell_type": "code",
   "execution_count": 10,
   "id": "7a25f6e5-d04f-4ba8-8d7c-5859bd9aa791",
   "metadata": {},
   "outputs": [
    {
     "name": "stdout",
     "output_type": "stream",
     "text": [
      "EntityReference(start=23, end=53, label='activities', text='must-visit tourist attractions', reason='tourist attractions')\n",
      "EntityReference(start=57, end=62, label='locations', text='Japan', reason='Japan')\n",
      "EntityReference(start=70, end=91, label='interests', text='cherry blossom season', reason='cherry blossom season')\n"
     ]
    }
   ],
   "source": [
    "async for state in extract_entities(\n",
    "                    text=message, \n",
    "                    labels=labels,\n",
    "                    temperature=0,\n",
    "                    config=Config()):\n",
    "    print(state)"
   ]
  },
  {
   "cell_type": "code",
   "execution_count": 4,
   "id": "1991bad1-7967-4c54-ba4a-90a9e4624dd9",
   "metadata": {},
   "outputs": [
    {
     "name": "stdout",
     "output_type": "stream",
     "text": [
      "EntityReference(start=57, end=62, label='locations', text='Japan', reason='Japan is mentioned as the location where the user wants to visit tourist attractions.')\n",
      "EntityReference(start=70, end=91, label='interests', text='cherry blossom season', reason=\"Cherry blossom season is mentioned as the user's interest.\")\n"
     ]
    }
   ],
   "source": [
    "async for state in extract_entities(\n",
    "                    text=message, \n",
    "                    labels=labels,\n",
    "                    model=\"gpt-4-0613\",\n",
    "                    config=Config()):\n",
    "    print(state)"
   ]
  },
  {
   "cell_type": "code",
   "execution_count": 5,
   "id": "2755c380-ddcf-484b-878c-078add8306a4",
   "metadata": {},
   "outputs": [],
   "source": [
    "from pydantic import BaseModel, Field\n",
    "\n",
    "description = (\n",
    "    \"You are a truthful AI assistant to a luxury travel agent. You only responsed to travel related tasks.\"\n",
    "    \"Your goal is to work with clients and their help the travel agents plan a great trip.\"\n",
    ").strip()\n",
    "\n",
    "dso_labels = {\n",
    "    \"TRAVELER\": \"List of travelers with their ages and relationship details.\",\n",
    "    \"DATE\": \"Absolute or relative dates or periods\",\n",
    "    \"DEPARTURE LOCATION\": \"Location from where the travelers will start their journey.\",\n",
    "    \"LOCATIONS\": \"All destinations and places mentioned in the travel request.\",\n",
    "    \"ACCOMODATIONS\": \"Details of hotels and other lodging options mentioned.\",\n",
    "    \"ACTIVITIES\": \"List of activities and attractions highlighted in the travel plan.\",\n",
    "    \"NEEDS\": \"Special requirements such as accessibility, dietary needs, or medical considerations.\",\n",
    "    \"INTERESTS\": \"Additional activities or attractions the travelers might enjoy.\",\n",
    "}\n",
    "\n",
    "\n",
    "class Traveler(BaseModel):\n",
    "    name: str = Field(title=\"Traveler Name\")\n",
    "    age: int | None = Field(None, title=\"Age of Traveler\")\n",
    "    relationship: str | None = Field(None, title=\"Relationship with other travelers\")\n",
    "\n",
    "\n",
    "class TravelPlanningState(BaseModel):\n",
    "    \"\"\"Defines the data necessary to plan a trip\"\"\"\n",
    "\n",
    "    travelers: list[Traveler] = Field(\n",
    "        default=[],\n",
    "        title=\"TRAVELERS\",\n",
    "        description=\"A list of who is traveling, their ages, and relationships between each other\",\n",
    "    )\n",
    "    departure_date: str | None = Field(title=\"Departure Date\")\n",
    "    return_date: str | None = Field(title=\"Return Date\")\n",
    "    expected_length_of_trip: str | None = Field(\n",
    "        default=None, title=\"Expected Length of Trip\"\n",
    "    )\n",
    "    departure_location: str | None = Field(\n",
    "        title=\"DEPARTURE LOCATION\",\n",
    "        description=\"Where the travelers are departing from\",\n",
    "    )\n",
    "    budget: str | None = Field(\n",
    "        title=\"BUDGET\",\n",
    "        description=\"Any information related to the expected costs or budget limitations for the trip\",\n",
    "    )\n",
    "    trip_reason: str | None = Field(\n",
    "        title=\"TRIP REASON\",\n",
    "        description=\"The purpose of the trip, e.g., fun, work, etc.\",\n",
    "    )\n",
    "    locations: list[str] | None = Field(\n",
    "        title=\"LOCATIONS\",\n",
    "        description=\"A list of all locations mentioned in the request\",\n",
    "    )\n",
    "    accomodations: list[str] | None = Field(\n",
    "        title=\"ACCOMODATIONS\",\n",
    "        description=\"A list of all hotels and other accommodations mentioned in the request\",\n",
    "    )\n",
    "    activities: list[str] | None = Field(\n",
    "        title=\"ACTIVITIES\",\n",
    "        description=\"A list of all activities and travel interests mentioned in the request\",\n",
    "    )\n",
    "    needs: str | None = Field(\n",
    "        title=\"NEEDS\",\n",
    "        description=\"Accessibility, dietary restrictions, or medical considerations\",\n",
    "    )\n",
    "    accomodation_preferences: str | None = Field(\n",
    "        title=\"ACCOMODATION PREFERENCES\",\n",
    "        description=\"Preference for types of lodging such as hotels, Airbnbs, or opinions on places to stay\",\n",
    "    )\n",
    "    transportation_preferences: str | None = Field(\n",
    "        title=\"TRANSPORTATION PREFERENCES\",\n",
    "        description=\"Any preference related to how they like to travel between destinations and generally on the trip\",\n",
    "    )\n",
    "    interests: list[str] | None = Field(\n",
    "        default=[],\n",
    "        title=\"INTERESTS\",\n",
    "        description=\"Other interests mentioned that the travelers would likely enjoy doing\",\n",
    "    )\n"
   ]
  },
  {
   "cell_type": "code",
   "execution_count": 11,
   "id": "793c1fbe-5417-417b-97b9-6f19a2ea5cbe",
   "metadata": {},
   "outputs": [],
   "source": [
    "state = None\n",
    "async for state in extract_data(\n",
    "    text=message, output_type=TravelPlanningState, config=Config(), \n",
    "                    model=\"gpt-4-0613\",force_type=True\n",
    "):\n",
    "    print(state)\n",
    "    break\n",
    "    s = state.model_dump(\n",
    "        exclude_defaults=True, exclude_unset=True, exclude_none=True\n",
    "    )\n",
    "    for k, v in s.items():\n",
    "        updated = True\n",
    "        new_state[k] = v"
   ]
  },
  {
   "cell_type": "code",
   "execution_count": 7,
   "id": "1d660d05-86de-46c6-a63e-98f089052030",
   "metadata": {},
   "outputs": [],
   "source": [
    "state"
   ]
  },
  {
   "cell_type": "code",
   "execution_count": 8,
   "id": "864f7ad3-fa71-4aa2-9835-3a93a6990e1f",
   "metadata": {},
   "outputs": [
    {
     "data": {
      "text/plain": [
       "\u001b[0;31mSignature:\u001b[0m\n",
       "\u001b[0mextract_data\u001b[0m\u001b[0;34m(\u001b[0m\u001b[0;34m\u001b[0m\n",
       "\u001b[0;34m\u001b[0m    \u001b[0mtext\u001b[0m\u001b[0;34m:\u001b[0m \u001b[0mstr\u001b[0m\u001b[0;34m,\u001b[0m\u001b[0;34m\u001b[0m\n",
       "\u001b[0;34m\u001b[0m    \u001b[0moutput_type\u001b[0m\u001b[0;34m:\u001b[0m \u001b[0mlist\u001b[0m\u001b[0;34m[\u001b[0m\u001b[0mpydantic\u001b[0m\u001b[0;34m.\u001b[0m\u001b[0mmain\u001b[0m\u001b[0;34m.\u001b[0m\u001b[0mBaseModel\u001b[0m\u001b[0;34m]\u001b[0m \u001b[0;34m|\u001b[0m \u001b[0mpydantic\u001b[0m\u001b[0;34m.\u001b[0m\u001b[0mmain\u001b[0m\u001b[0;34m.\u001b[0m\u001b[0mBaseModel\u001b[0m\u001b[0;34m,\u001b[0m\u001b[0;34m\u001b[0m\n",
       "\u001b[0;34m\u001b[0m    \u001b[0mconfig\u001b[0m\u001b[0;34m:\u001b[0m \u001b[0mpromptedgraphs\u001b[0m\u001b[0;34m.\u001b[0m\u001b[0mconfig\u001b[0m\u001b[0;34m.\u001b[0m\u001b[0mConfig\u001b[0m\u001b[0;34m,\u001b[0m\u001b[0;34m\u001b[0m\n",
       "\u001b[0;34m\u001b[0m    \u001b[0mmodel\u001b[0m\u001b[0;34m=\u001b[0m\u001b[0;34m'gpt-3.5-turbo-0613'\u001b[0m\u001b[0;34m,\u001b[0m\u001b[0;34m\u001b[0m\n",
       "\u001b[0;34m\u001b[0m    \u001b[0mtemperature\u001b[0m\u001b[0;34m=\u001b[0m\u001b[0;36m0.0\u001b[0m\u001b[0;34m,\u001b[0m\u001b[0;34m\u001b[0m\n",
       "\u001b[0;34m\u001b[0m    \u001b[0mcustom_system_message\u001b[0m\u001b[0;34m:\u001b[0m \u001b[0mstr\u001b[0m \u001b[0;34m|\u001b[0m \u001b[0;32mNone\u001b[0m \u001b[0;34m=\u001b[0m \u001b[0;32mNone\u001b[0m\u001b[0;34m,\u001b[0m\u001b[0;34m\u001b[0m\n",
       "\u001b[0;34m\u001b[0m    \u001b[0mforce_type\u001b[0m\u001b[0;34m:\u001b[0m \u001b[0mbool\u001b[0m \u001b[0;34m=\u001b[0m \u001b[0;32mFalse\u001b[0m\u001b[0;34m,\u001b[0m\u001b[0;34m\u001b[0m\n",
       "\u001b[0;34m\u001b[0m\u001b[0;34m)\u001b[0m\u001b[0;34m\u001b[0m\u001b[0;34m\u001b[0m\u001b[0m\n",
       "\u001b[0;31mDocstring:\u001b[0m <no docstring>\n",
       "\u001b[0;31mFile:\u001b[0m      ~/repos/closedloop/PromptedGraphs/promptedgraphs/data_extraction.py\n",
       "\u001b[0;31mType:\u001b[0m      function"
      ]
     },
     "metadata": {},
     "output_type": "display_data"
    }
   ],
   "source": [
    "extract_data?"
   ]
  },
  {
   "cell_type": "code",
   "execution_count": 17,
   "id": "43f16a2a-c5dd-48e6-af49-d89354f32f76",
   "metadata": {},
   "outputs": [],
   "source": [
    "async for state in extract_entities(\n",
    "                    text=message, \n",
    "                    labels={k.lower():'' for k,v in dso_labels.items()},\n",
    "    temperature=0.0,\n",
    "                    # model=\"gpt-4-0613\",\n",
    "                    config=Config()):\n",
    "    print(state)"
   ]
  },
  {
   "cell_type": "code",
   "execution_count": 14,
   "id": "1ab6d8a0-def3-4e5a-83df-d59317fa1491",
   "metadata": {},
   "outputs": [
    {
     "data": {
      "text/plain": [
       "{'TRAVELER': 'List of travelers with their ages and relationship details.',\n",
       " 'DATE': 'Absolute or relative dates or periods',\n",
       " 'DEPARTURE LOCATION': 'Location from where the travelers will start their journey.',\n",
       " 'LOCATIONS': 'All destinations and places mentioned in the travel request.',\n",
       " 'ACCOMODATIONS': 'Details of hotels and other lodging options mentioned.',\n",
       " 'ACTIVITIES': 'List of activities and attractions highlighted in the travel plan.',\n",
       " 'NEEDS': 'Special requirements such as accessibility, dietary needs, or medical considerations.',\n",
       " 'INTERESTS': 'Additional activities or attractions the travelers might enjoy.'}"
      ]
     },
     "execution_count": 14,
     "metadata": {},
     "output_type": "execute_result"
    }
   ],
   "source": [
    "The following Text is a question about the NFL. Fill out as many of the below categories as possible from the Text.\n",
    "If a city is mentioned, use that to determine the NFL team that plays in that city and use that team's mascot for 'Team'.\n",
    "A week number refers to that week of the NFL season. For example, week 1 games have a 'Min Date' of 2023-09-07 and 'Max Date' of 2023-09-13. When possible, using today's date ({today}) as reference, the Text, and the fact that NFL teams play at most one game a week, determine 'Min Date' and 'Max Date' for those games. 'Max Date' for all games this season is 2024-01-08.\n",
    "Fill out an integer value for 'Number of Games' if the Text is asking about a certain number of games *for a particular team*. If the Text is asking about ranking games involving many team, DO NOT put a value for Number of Games.\n",
    "PlayerPosition must be a position on a football team (e.g. running back, tight end, quarterback).\n",
    "\n",
    "Return a JSON list of lists [entity_type, text] where entity_type MUST be one of the following:\n",
    "Person-Player, Person-Coach, Team, Place, Min Date, Max Date, Number, PlayerPosition, Odds, Person-Other, Other, Number of Games\n"
   ]
  },
  {
   "cell_type": "code",
   "execution_count": null,
   "id": "6f59629d-b79d-4313-8dc2-db8c42c98fd8",
   "metadata": {},
   "outputs": [],
   "source": []
  }
 ],
 "metadata": {
  "kernelspec": {
   "display_name": "Python 3 (ipykernel)",
   "language": "python",
   "name": "python3"
  },
  "language_info": {
   "codemirror_mode": {
    "name": "ipython",
    "version": 3
   },
   "file_extension": ".py",
   "mimetype": "text/x-python",
   "name": "python",
   "nbconvert_exporter": "python",
   "pygments_lexer": "ipython3",
   "version": "3.10.12"
  }
 },
 "nbformat": 4,
 "nbformat_minor": 5
}
